{
 "cells": [
  {
   "cell_type": "markdown",
   "source": [
    "# Evaluation Results\n",
    "\n",
    "This notebook reads and plots results saved in `./results` directory."
   ],
   "metadata": {
    "collapsed": false,
    "pycharm": {
     "name": "#%% md\n"
    }
   }
  },
  {
   "cell_type": "code",
   "execution_count": 17,
   "outputs": [],
   "source": [
    "# enable auto-reloading submodules\n",
    "%reload_ext autoreload\n",
    "%autoreload 2\n",
    "\n",
    "# hidpi plots for retina displays\n",
    "%config InlineBackend.figure_format = 'retina'\n",
    "\n",
    "from utils import load_results"
   ],
   "metadata": {
    "collapsed": false,
    "pycharm": {
     "name": "#%%\n"
    }
   }
  },
  {
   "cell_type": "markdown",
   "source": [
    "## K. pneumoniae"
   ],
   "metadata": {
    "collapsed": false,
    "pycharm": {
     "name": "#%% md\n"
    }
   }
  },
  {
   "cell_type": "markdown",
   "source": [
    "### MLP"
   ],
   "metadata": {
    "collapsed": false,
    "pycharm": {
     "name": "#%% md\n"
    }
   }
  },
  {
   "cell_type": "code",
   "execution_count": 18,
   "outputs": [],
   "source": [
    "kpn_mlp_results = load_results('./results/kpn_mlp')\n",
    "\n",
    "kpn_mlp_results.bar_plot(\n",
    "    title='Metric Scores for K. pneumoniae // MLP',\n",
    "    # select drugs and metrics here\n",
    "    # drugs=[],\n",
    "    # metrics=[],\n",
    "    nrows=2,\n",
    "    ncols=3,\n",
    "    sharey=True,\n",
    "    y_lim=(0.0, 1.1),\n",
    "    figsize=(22, 15),\n",
    ")\n",
    "\n",
    "kpn_mlp_results.box_plot(\n",
    "    # title='Metric Scores for K. pneumoniae (Box Graph)',\n",
    "    subtitle_template='5-Fold {} Scores for K. pneumoniae // MLP',\n",
    "    # select drugs and metrics here\n",
    "    # drugs=[],\n",
    "    metrics=['AUROC'],\n",
    "    nrows=1,\n",
    "    ncols=1,\n",
    "    y_lim=(0.4, 1.0),\n",
    "    figsize=(10, 6),\n",
    ")\n"
   ],
   "metadata": {
    "collapsed": false,
    "pycharm": {
     "name": "#%%\n"
    }
   }
  },
  {
   "cell_type": "code",
   "execution_count": 18,
   "outputs": [],
   "source": [],
   "metadata": {
    "collapsed": false,
    "pycharm": {
     "name": "#%%\n"
    }
   }
  }
 ],
 "metadata": {
  "kernelspec": {
   "display_name": "Python 3",
   "language": "python",
   "name": "python3"
  },
  "language_info": {
   "codemirror_mode": {
    "name": "ipython",
    "version": 2
   },
   "file_extension": ".py",
   "mimetype": "text/x-python",
   "name": "python",
   "nbconvert_exporter": "python",
   "pygments_lexer": "ipython2",
   "version": "2.7.6"
  }
 },
 "nbformat": 4,
 "nbformat_minor": 0
}