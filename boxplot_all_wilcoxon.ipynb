{
 "cells": [
  {
   "cell_type": "code",
   "execution_count": 21,
   "metadata": {},
   "outputs": [],
   "source": [
    "import numpy as np\n",
    "import pandas as pd\n",
    "\n",
    "df = np.array([\n",
    "[0.730875576036866, \t0.765345622119815, \t0.749308755760368 ,\t0.767281105990783, \t0.750138248847926, \t0.774101382488479], \n",
    "[0.716138908605511, \t0.743595923426525, \t0.704066499538197 ,\t0.712497219073448, \t0.667710779786251, \t0.709475278887205], \n",
    "[0.551621522019532, \t0.659311334817895, \t0.598304772434125 ,\t0.686843559977888, \t0.620692832135618, \t0.768933112216694], \n",
    "[0.746887966804979, \t0.783858921\t     ,  0.630000000000000 , 0.677000000000000, \t0.722063242237802, \t0.760468831974054], \n",
    "[0.713062524890481, \t0.722974093986459, \t0.515000000000000 ,\t0.640000000000000, \t0.546629950170469, \t0.688749016522423], \n",
    "[0.709235209235209, \t0.715000000000000, \t0.610000000000000 ,\t0.729235642135642, \t0.634776334776334, \t0.739898989898990], \n",
    "[0.765304997550220, \t0.726188140000000, \t0.754011750000000 ,\t0.745302550000000, \t0.708096283470410, \t0.750011576396499], \n",
    "[0.567330488383120, \t0.607746020000000, \t0.548545200000000 ,\t0.566171430000000, \t0.500000000000000, \t0.615594100888218], \n",
    "[0.839851169858544, \t0.813298080000000, \t0.808806740000000 ,\t0.820699900000000, \t0.765265466917360, \t0.821100298138043]],dtype='f')\n"
   ]
  },
  {
   "cell_type": "code",
   "execution_count": 22,
   "metadata": {},
   "outputs": [],
   "source": [
    "data = pd.DataFrame(df, \n",
    "columns = ['Base','SMOTE','FS','SMOTE+FS','CNN','CNN+SMOTE'], \n",
    "index = ['Ecoli-ceftriaxone','Ecoli-ciprofloxacin','Ecoli-cefepime','Kpneu-cefepime',\"Kpneu-ciprofloxacin\",'Kpneu-ceftriaxone','Saureus-ciprofloxacine','Saureus-fusidic',\"Saureus-oxacillin\"])"
   ]
  },
  {
   "cell_type": "code",
   "execution_count": 23,
   "metadata": {},
   "outputs": [
    {
     "data": {
      "text/html": [
       "<div>\n",
       "<style scoped>\n",
       "    .dataframe tbody tr th:only-of-type {\n",
       "        vertical-align: middle;\n",
       "    }\n",
       "\n",
       "    .dataframe tbody tr th {\n",
       "        vertical-align: top;\n",
       "    }\n",
       "\n",
       "    .dataframe thead th {\n",
       "        text-align: right;\n",
       "    }\n",
       "</style>\n",
       "<table border=\"1\" class=\"dataframe\">\n",
       "  <thead>\n",
       "    <tr style=\"text-align: right;\">\n",
       "      <th></th>\n",
       "      <th>Base</th>\n",
       "      <th>SMOTE</th>\n",
       "      <th>FS</th>\n",
       "      <th>SMOTE+FS</th>\n",
       "      <th>CNN</th>\n",
       "      <th>CNN+SMOTE</th>\n",
       "      <th>drug</th>\n",
       "      <th>patho</th>\n",
       "    </tr>\n",
       "  </thead>\n",
       "  <tbody>\n",
       "    <tr>\n",
       "      <th>Ecoli-ceftriaxone</th>\n",
       "      <td>0.944160</td>\n",
       "      <td>0.988689</td>\n",
       "      <td>0.967972</td>\n",
       "      <td>0.991189</td>\n",
       "      <td>0.969044</td>\n",
       "      <td>1.000000</td>\n",
       "      <td>ceft</td>\n",
       "      <td>ecoli</td>\n",
       "    </tr>\n",
       "    <tr>\n",
       "      <th>Ecoli-ciprofloxacin</th>\n",
       "      <td>0.963075</td>\n",
       "      <td>1.000000</td>\n",
       "      <td>0.946840</td>\n",
       "      <td>0.958178</td>\n",
       "      <td>0.897948</td>\n",
       "      <td>0.954114</td>\n",
       "      <td>cipro</td>\n",
       "      <td>ecoli</td>\n",
       "    </tr>\n",
       "    <tr>\n",
       "      <th>Ecoli-cefepime</th>\n",
       "      <td>0.717386</td>\n",
       "      <td>0.857437</td>\n",
       "      <td>0.778097</td>\n",
       "      <td>0.893242</td>\n",
       "      <td>0.807213</td>\n",
       "      <td>1.000000</td>\n",
       "      <td>cefe</td>\n",
       "      <td>ecoli</td>\n",
       "    </tr>\n",
       "    <tr>\n",
       "      <th>Kpneu-cefepime</th>\n",
       "      <td>0.952835</td>\n",
       "      <td>1.000000</td>\n",
       "      <td>0.803716</td>\n",
       "      <td>0.863676</td>\n",
       "      <td>0.921165</td>\n",
       "      <td>0.970160</td>\n",
       "      <td>cefe</td>\n",
       "      <td>K</td>\n",
       "    </tr>\n",
       "    <tr>\n",
       "      <th>Kpneu-ciprofloxacin</th>\n",
       "      <td>0.986291</td>\n",
       "      <td>1.000000</td>\n",
       "      <td>0.712335</td>\n",
       "      <td>0.885232</td>\n",
       "      <td>0.756085</td>\n",
       "      <td>0.952661</td>\n",
       "      <td>cipro</td>\n",
       "      <td>K</td>\n",
       "    </tr>\n",
       "    <tr>\n",
       "      <th>Kpneu-ceftriaxone</th>\n",
       "      <td>0.958557</td>\n",
       "      <td>0.966348</td>\n",
       "      <td>0.824437</td>\n",
       "      <td>0.985588</td>\n",
       "      <td>0.857923</td>\n",
       "      <td>1.000000</td>\n",
       "      <td>ceft</td>\n",
       "      <td>K</td>\n",
       "    </tr>\n",
       "    <tr>\n",
       "      <th>Saureus-ciprofloxacine</th>\n",
       "      <td>1.000000</td>\n",
       "      <td>0.948887</td>\n",
       "      <td>0.985243</td>\n",
       "      <td>0.973863</td>\n",
       "      <td>0.925247</td>\n",
       "      <td>0.980017</td>\n",
       "      <td>cipro</td>\n",
       "      <td>S</td>\n",
       "    </tr>\n",
       "    <tr>\n",
       "      <th>Saureus-fusidic</th>\n",
       "      <td>0.921598</td>\n",
       "      <td>0.987251</td>\n",
       "      <td>0.891083</td>\n",
       "      <td>0.919715</td>\n",
       "      <td>0.812223</td>\n",
       "      <td>1.000000</td>\n",
       "      <td>fus</td>\n",
       "      <td>S</td>\n",
       "    </tr>\n",
       "    <tr>\n",
       "      <th>Saureus-oxacillin</th>\n",
       "      <td>1.000000</td>\n",
       "      <td>0.968384</td>\n",
       "      <td>0.963036</td>\n",
       "      <td>0.977197</td>\n",
       "      <td>0.911192</td>\n",
       "      <td>0.977674</td>\n",
       "      <td>oxa</td>\n",
       "      <td>S</td>\n",
       "    </tr>\n",
       "  </tbody>\n",
       "</table>\n",
       "</div>"
      ],
      "text/plain": [
       "                            Base     SMOTE        FS  SMOTE+FS       CNN  \\\n",
       "Ecoli-ceftriaxone       0.944160  0.988689  0.967972  0.991189  0.969044   \n",
       "Ecoli-ciprofloxacin     0.963075  1.000000  0.946840  0.958178  0.897948   \n",
       "Ecoli-cefepime          0.717386  0.857437  0.778097  0.893242  0.807213   \n",
       "Kpneu-cefepime          0.952835  1.000000  0.803716  0.863676  0.921165   \n",
       "Kpneu-ciprofloxacin     0.986291  1.000000  0.712335  0.885232  0.756085   \n",
       "Kpneu-ceftriaxone       0.958557  0.966348  0.824437  0.985588  0.857923   \n",
       "Saureus-ciprofloxacine  1.000000  0.948887  0.985243  0.973863  0.925247   \n",
       "Saureus-fusidic         0.921598  0.987251  0.891083  0.919715  0.812223   \n",
       "Saureus-oxacillin       1.000000  0.968384  0.963036  0.977197  0.911192   \n",
       "\n",
       "                        CNN+SMOTE   drug  patho  \n",
       "Ecoli-ceftriaxone        1.000000   ceft  ecoli  \n",
       "Ecoli-ciprofloxacin      0.954114  cipro  ecoli  \n",
       "Ecoli-cefepime           1.000000   cefe  ecoli  \n",
       "Kpneu-cefepime           0.970160   cefe      K  \n",
       "Kpneu-ciprofloxacin      0.952661  cipro      K  \n",
       "Kpneu-ceftriaxone        1.000000   ceft      K  \n",
       "Saureus-ciprofloxacine   0.980017  cipro      S  \n",
       "Saureus-fusidic          1.000000    fus      S  \n",
       "Saureus-oxacillin        0.977674    oxa      S  "
      ]
     },
     "execution_count": 23,
     "metadata": {},
     "output_type": "execute_result"
    }
   ],
   "source": [
    "# normalize by row\n",
    "t_data = data.T\n",
    "max_ = t_data.max()\n",
    "max_\n",
    "t_data /= max_\n",
    "t_data\n",
    "# return\n",
    "t_t_data = t_data.T\n",
    "t_t_data['drug'] = ['ceft','cipro','cefe','cefe','cipro','ceft','cipro','fus','oxa']\n",
    "t_t_data['patho']=['ecoli','ecoli','ecoli','K','K','K',\"S\",'S','S']\n",
    "t_t_data"
   ]
  },
  {
   "cell_type": "code",
   "execution_count": 30,
   "metadata": {},
   "outputs": [
    {
     "data": {
      "text/plain": [
       "(array([False, False, False, False, False]),\n",
       " array([1.        , 0.72560179, 1.        , 0.1217046 , 0.72560179]),\n",
       " 0.010206218313011495,\n",
       " 0.01)"
      ]
     },
     "execution_count": 30,
     "metadata": {},
     "output_type": "execute_result"
    }
   ],
   "source": [
    "# wilcoxon rank sum \n",
    "from scipy.stats import ranksums\n",
    "from statsmodels.sandbox.stats.multicomp import multipletests\n",
    "sample1 = t_t_data['Base']\n",
    "p = list()\n",
    "for i in np.arange(1,6):\n",
    "    sample2 = t_t_data.iloc[:,i]\n",
    "    res = ranksums(sample1, sample2)\n",
    "    pvalue = res[1]\n",
    "    p = p+[pvalue]\n",
    "p_adj = multipletests(p, alpha=0.05, method='bonferroni')\n",
    "p_adj"
   ]
  },
  {
   "cell_type": "code",
   "execution_count": 26,
   "metadata": {},
   "outputs": [
    {
     "name": "stderr",
     "output_type": "stream",
     "text": [
      "/var/folders/s2/yhnq83_56gv82yv_1ljbgf9h0000gn/T/ipykernel_18726/2413630002.py:1: FutureWarning: Dropping of nuisance columns in DataFrame reductions (with 'numeric_only=None') is deprecated; in a future version this will raise TypeError.  Select only valid columns before calling the reduction.\n",
      "  values= pd.DataFrame(t_t_data.median(axis=0), columns=[\"Median\"])\n"
     ]
    },
    {
     "data": {
      "text/html": [
       "<div>\n",
       "<style scoped>\n",
       "    .dataframe tbody tr th:only-of-type {\n",
       "        vertical-align: middle;\n",
       "    }\n",
       "\n",
       "    .dataframe tbody tr th {\n",
       "        vertical-align: top;\n",
       "    }\n",
       "\n",
       "    .dataframe thead th {\n",
       "        text-align: right;\n",
       "    }\n",
       "</style>\n",
       "<table border=\"1\" class=\"dataframe\">\n",
       "  <thead>\n",
       "    <tr style=\"text-align: right;\">\n",
       "      <th></th>\n",
       "      <th>Base</th>\n",
       "      <th>SMOTE</th>\n",
       "      <th>FS</th>\n",
       "      <th>SMOTE+FS</th>\n",
       "      <th>CNN</th>\n",
       "      <th>CNN+SMOTE</th>\n",
       "    </tr>\n",
       "  </thead>\n",
       "  <tbody>\n",
       "    <tr>\n",
       "      <th>0.25</th>\n",
       "      <td>0.94</td>\n",
       "      <td>0.97</td>\n",
       "      <td>0.80</td>\n",
       "      <td>0.89</td>\n",
       "      <td>0.81</td>\n",
       "      <td>0.97</td>\n",
       "    </tr>\n",
       "    <tr>\n",
       "      <th>0.50</th>\n",
       "      <td>0.96</td>\n",
       "      <td>0.99</td>\n",
       "      <td>0.89</td>\n",
       "      <td>0.96</td>\n",
       "      <td>0.90</td>\n",
       "      <td>0.98</td>\n",
       "    </tr>\n",
       "    <tr>\n",
       "      <th>0.75</th>\n",
       "      <td>0.99</td>\n",
       "      <td>1.00</td>\n",
       "      <td>0.96</td>\n",
       "      <td>0.98</td>\n",
       "      <td>0.92</td>\n",
       "      <td>1.00</td>\n",
       "    </tr>\n",
       "  </tbody>\n",
       "</table>\n",
       "</div>"
      ],
      "text/plain": [
       "      Base  SMOTE    FS  SMOTE+FS   CNN  CNN+SMOTE\n",
       "0.25  0.94   0.97  0.80      0.89  0.81       0.97\n",
       "0.50  0.96   0.99  0.89      0.96  0.90       0.98\n",
       "0.75  0.99   1.00  0.96      0.98  0.92       1.00"
      ]
     },
     "execution_count": 26,
     "metadata": {},
     "output_type": "execute_result"
    }
   ],
   "source": [
    "values= pd.DataFrame(t_t_data.median(axis=0), columns=[\"Median\"])\n",
    "values\n",
    "t_t_data.quantile([0.25,0.5,0.75], axis = 0).round(2)"
   ]
  },
  {
   "cell_type": "code",
   "execution_count": 32,
   "metadata": {},
   "outputs": [
    {
     "data": {
      "image/png": "[encoded data removed]",
      "text/plain": [
       "<Figure size 640x480 with 1 Axes>"
      ]
     },
     "metadata": {},
     "output_type": "display_data"
    }
   ],
   "source": [
    "plt.boxplot(t_t_data.iloc[:,0:6] )\n",
    "plt.xticks([1,2,3,4,5,6],t_t_data.iloc[:,0:6].columns)\n",
    "plt.xlabel(\"Model tested to predict resistance status\")\n",
    "plt.ylabel(\"The normalized AUROC in combinations of pathogen and antibiotic\")\n",
    "plt.savefig('fig_finalbox.pdf')"
   ]
  }
 ],
 "metadata": {
  "kernelspec": {
   "display_name": "Python 3",
   "language": "python",
   "name": "python3"
  },
  "language_info": {
   "codemirror_mode": {
    "name": "ipython",
    "version": 3
   },
   "file_extension": ".py",
   "mimetype": "text/x-python",
   "name": "python",
   "nbconvert_exporter": "python",
   "pygments_lexer": "ipython3",
   "version": "3.9.13 (main, Aug 25 2022, 18:29:29) \n[Clang 12.0.0 ]"
  },
  "orig_nbformat": 4,
  "vscode": {
   "interpreter": {
    "hash": "49eb4e07654bc9630db6b78c68555081d97867e17a0a091374b3ea66563c05ad"
   }
  }
 },
 "nbformat": 4,
 "nbformat_minor": 2
}
