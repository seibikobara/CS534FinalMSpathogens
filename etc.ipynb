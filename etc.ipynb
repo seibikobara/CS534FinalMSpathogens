{
 "cells": [
  {
   "cell_type": "code",
   "execution_count": 1,
   "metadata": {},
   "outputs": [],
   "source": [
    "import matplotlib.pyplot as plt\n",
    "import pandas as pd\n",
    "import numpy as np\n",
    "from sklearn.feature_selection import RFE\n",
    "from sklearn.model_selection import train_test_split, StratifiedKFold, GridSearchCV\n",
    "from sklearn.metrics import roc_auc_score, accuracy_score, roc_curve, balanced_accuracy_score, f1_score, RocCurveDisplay\n",
    "from imblearn.over_sampling import SMOTE\n",
    "import lightgbm\n"
   ]
  },
  {
   "cell_type": "code",
   "execution_count": 2,
   "metadata": {},
   "outputs": [],
   "source": [
    "features = pd.read_csv('/Users/seibi/projects/ms_driams/cipro_x.csv')\n",
    "outcome = pd.read_csv('/Users/seibi/projects/ms_driams/cipro_y.csv')"
   ]
  },
  {
   "cell_type": "code",
   "execution_count": null,
   "metadata": {},
   "outputs": [],
   "source": [
    "# No SMOTE, No Feature Selection\n",
    "print(\"No SMOTE, No Feature Selection...\")\n",
    "regular_roc = []\n",
    "regular_acc = []\n",
    "regular_fs_f1 = []\n",
    "for i in np.arange(1,10,1):\n",
    "    skf = StratifiedKFold(n_splits = 5, shuffle = True, random_state = i)\n",
    "    fold_count = 1\n",
    "    for train_index, test_index in skf.split(features, outcome):\n",
    "        print(f\"Evaluating Fold {fold_count}/5...\")\n",
    "        X_train, X_test = features.iloc[train_index], features.iloc[test_index]\n",
    "        y_train, y_test = outcome.iloc[train_index], outcome.iloc[test_index]\n",
    "        reg_lightgbm = lightgbm.LGBMClassifier(objective=\"binary\", seed=42, boosting_type='gbdt', learning_rate=0.01, n_estimators=25, min_child_samples=1)\n",
    "        _ = reg_lightgbm.fit(X_train, y_train)#, eval_set = (features_val, outcome_val), callbacks = [lightgbm.early_stopping(50)])\n",
    "        #y_pred = reg_lightgbm.predict(X_test)\n",
    "        y_prob = reg_lightgbm.predict_proba(X_test)[:,1]\n",
    "        regular_roc.append(roc_auc_score(y_test, y_prob))\n",
    "        #regular_acc.append(accuracy_score(y_test, y_pred))\n",
    "        #regular_fs_f1.append(f1_score(y_test, y_pred))\n",
    "        # print(\"ROC:\", roc_auc_score(y_test, y_pred))\n",
    "        # print(\"ACC:\", accuracy_score(y_test, y_pred))\n",
    "        # print(\"F1:\", f1_score(y_test, y_pred))\n",
    "        fold_count += 1"
   ]
  },
  {
   "cell_type": "code",
   "execution_count": 11,
   "metadata": {},
   "outputs": [
    {
     "data": {
      "text/plain": [
       "(array([1., 1., 0., 0., 0., 0., 0., 2., 1., 1., 0., 0., 1., 2., 1., 0., 2.,\n",
       "        1., 1., 0., 1., 0., 1., 1., 3., 0., 2., 0., 0., 4., 2., 0., 2., 1.,\n",
       "        0., 0., 4., 3., 0., 0., 0., 2., 1., 1., 0., 0., 0., 1., 0., 2.]),\n",
       " array([0.70957251, 0.71165816, 0.71374381, 0.71582946, 0.7179151 ,\n",
       "        0.72000075, 0.7220864 , 0.72417205, 0.72625769, 0.72834334,\n",
       "        0.73042899, 0.73251464, 0.73460028, 0.73668593, 0.73877158,\n",
       "        0.74085723, 0.74294288, 0.74502852, 0.74711417, 0.74919982,\n",
       "        0.75128547, 0.75337111, 0.75545676, 0.75754241, 0.75962806,\n",
       "        0.7617137 , 0.76379935, 0.765885  , 0.76797065, 0.77005629,\n",
       "        0.77214194, 0.77422759, 0.77631324, 0.77839888, 0.78048453,\n",
       "        0.78257018, 0.78465583, 0.78674148, 0.78882712, 0.79091277,\n",
       "        0.79299842, 0.79508407, 0.79716971, 0.79925536, 0.80134101,\n",
       "        0.80342666, 0.8055123 , 0.80759795, 0.8096836 , 0.81176925,\n",
       "        0.81385489]),\n",
       " <BarContainer object of 50 artists>)"
      ]
     },
     "execution_count": 11,
     "metadata": {},
     "output_type": "execute_result"
    },
    {
     "data": {
      "image/png": "[encoded data removed]",
      "text/plain": [
       "<Figure size 640x480 with 1 Axes>"
      ]
     },
     "metadata": {},
     "output_type": "display_data"
    }
   ],
   "source": [
    "plt.hist(regular_roc, bins =50)"
   ]
  },
  {
   "cell_type": "code",
   "execution_count": 17,
   "metadata": {},
   "outputs": [],
   "source": [
    "import numpy as np\n",
    "import pandas as pd\n",
    "df = np.array([[0.73, 0.77, 0.74, 0.79, 0.75, 0.77],\n",
    "    [0.715,0.745, 0.705, 0.715, 0.67, 0.71],\n",
    "    [0.55, 0.66, 0.60, 0.71, 0.63, 0.76],\n",
    "    [0.70, 0.71, 0.61, 0.71, 0.62, 0.77],\n",
    "    [0.72, 0.73, 0.51, 0.64, 0.67, 0.71],\n",
    "    [0.74, 0.76, 0.61, 0.67, 0.75, 0.78],\n",
    "    [0.77, 0.73, 0.75, 0.74, 0.71, 0.75],\n",
    "    [0.56, 0.61, 0.55, 0.56, 0.50, 0.61],\n",
    "    [0.84, 0.81, 0.805, 0.82, 0.76, 0.82]],dtype='f')"
   ]
  },
  {
   "cell_type": "code",
   "execution_count": 86,
   "metadata": {},
   "outputs": [],
   "source": [
    "data = pd.DataFrame(df, \n",
    "columns = ['Base','SMOTE','FS','SMOTE+FS','CNN','CNN+SMOTE'], \n",
    "index = ['Ecoli-ceftriaxone','Ecoli-ciproproxacin','Ecoli-cefepime','Kpneu-cefepime',\"Kpneu-ciprofloxacin\",'K-ceftriaxone','Saureus-ciprofloxacine','Saureus-fusidic',\"Saureus-oxacillin\"])"
   ]
  },
  {
   "cell_type": "code",
   "execution_count": 99,
   "metadata": {},
   "outputs": [
    {
     "data": {
      "text/html": [
       "<div>\n",
       "<style scoped>\n",
       "    .dataframe tbody tr th:only-of-type {\n",
       "        vertical-align: middle;\n",
       "    }\n",
       "\n",
       "    .dataframe tbody tr th {\n",
       "        vertical-align: top;\n",
       "    }\n",
       "\n",
       "    .dataframe thead th {\n",
       "        text-align: right;\n",
       "    }\n",
       "</style>\n",
       "<table border=\"1\" class=\"dataframe\">\n",
       "  <thead>\n",
       "    <tr style=\"text-align: right;\">\n",
       "      <th></th>\n",
       "      <th>Base</th>\n",
       "      <th>SMOTE</th>\n",
       "      <th>FS</th>\n",
       "      <th>SMOTE+FS</th>\n",
       "      <th>CNN</th>\n",
       "      <th>CNN+SMOTE</th>\n",
       "      <th>drug</th>\n",
       "      <th>patho</th>\n",
       "    </tr>\n",
       "  </thead>\n",
       "  <tbody>\n",
       "    <tr>\n",
       "      <th>Ecoli-ceftriaxone</th>\n",
       "      <td>0.924051</td>\n",
       "      <td>0.974684</td>\n",
       "      <td>0.936709</td>\n",
       "      <td>1.000000</td>\n",
       "      <td>0.949367</td>\n",
       "      <td>0.974684</td>\n",
       "      <td>ceft</td>\n",
       "      <td>ecoli</td>\n",
       "    </tr>\n",
       "    <tr>\n",
       "      <th>Ecoli-ciproproxacin</th>\n",
       "      <td>0.959732</td>\n",
       "      <td>1.000000</td>\n",
       "      <td>0.946309</td>\n",
       "      <td>0.959732</td>\n",
       "      <td>0.899329</td>\n",
       "      <td>0.953020</td>\n",
       "      <td>cipro</td>\n",
       "      <td>ecoli</td>\n",
       "    </tr>\n",
       "    <tr>\n",
       "      <th>Ecoli-cefepime</th>\n",
       "      <td>0.723684</td>\n",
       "      <td>0.868421</td>\n",
       "      <td>0.789474</td>\n",
       "      <td>0.934211</td>\n",
       "      <td>0.828947</td>\n",
       "      <td>1.000000</td>\n",
       "      <td>cefe</td>\n",
       "      <td>ecoli</td>\n",
       "    </tr>\n",
       "    <tr>\n",
       "      <th>Kpneu-cefepime</th>\n",
       "      <td>0.909091</td>\n",
       "      <td>0.922078</td>\n",
       "      <td>0.792208</td>\n",
       "      <td>0.922078</td>\n",
       "      <td>0.805195</td>\n",
       "      <td>1.000000</td>\n",
       "      <td>cefe</td>\n",
       "      <td>K</td>\n",
       "    </tr>\n",
       "    <tr>\n",
       "      <th>Kpneu-ciprofloxacin</th>\n",
       "      <td>0.986301</td>\n",
       "      <td>1.000000</td>\n",
       "      <td>0.698630</td>\n",
       "      <td>0.876712</td>\n",
       "      <td>0.917808</td>\n",
       "      <td>0.972603</td>\n",
       "      <td>cipro</td>\n",
       "      <td>K</td>\n",
       "    </tr>\n",
       "    <tr>\n",
       "      <th>K-ceftriaxone</th>\n",
       "      <td>0.948718</td>\n",
       "      <td>0.974359</td>\n",
       "      <td>0.782051</td>\n",
       "      <td>0.858974</td>\n",
       "      <td>0.961538</td>\n",
       "      <td>1.000000</td>\n",
       "      <td>ceft</td>\n",
       "      <td>K</td>\n",
       "    </tr>\n",
       "    <tr>\n",
       "      <th>Saureus-ciprofloxacine</th>\n",
       "      <td>1.000000</td>\n",
       "      <td>0.948052</td>\n",
       "      <td>0.974026</td>\n",
       "      <td>0.961039</td>\n",
       "      <td>0.922078</td>\n",
       "      <td>0.974026</td>\n",
       "      <td>cipro</td>\n",
       "      <td>S</td>\n",
       "    </tr>\n",
       "    <tr>\n",
       "      <th>Saureus-fusidic</th>\n",
       "      <td>0.918033</td>\n",
       "      <td>1.000000</td>\n",
       "      <td>0.901639</td>\n",
       "      <td>0.918033</td>\n",
       "      <td>0.819672</td>\n",
       "      <td>1.000000</td>\n",
       "      <td>fus</td>\n",
       "      <td>S</td>\n",
       "    </tr>\n",
       "    <tr>\n",
       "      <th>Saureus-oxacillin</th>\n",
       "      <td>1.000000</td>\n",
       "      <td>0.964286</td>\n",
       "      <td>0.958333</td>\n",
       "      <td>0.976191</td>\n",
       "      <td>0.904762</td>\n",
       "      <td>0.976191</td>\n",
       "      <td>oxa</td>\n",
       "      <td>S</td>\n",
       "    </tr>\n",
       "  </tbody>\n",
       "</table>\n",
       "</div>"
      ],
      "text/plain": [
       "                            Base     SMOTE        FS  SMOTE+FS       CNN  \\\n",
       "Ecoli-ceftriaxone       0.924051  0.974684  0.936709  1.000000  0.949367   \n",
       "Ecoli-ciproproxacin     0.959732  1.000000  0.946309  0.959732  0.899329   \n",
       "Ecoli-cefepime          0.723684  0.868421  0.789474  0.934211  0.828947   \n",
       "Kpneu-cefepime          0.909091  0.922078  0.792208  0.922078  0.805195   \n",
       "Kpneu-ciprofloxacin     0.986301  1.000000  0.698630  0.876712  0.917808   \n",
       "K-ceftriaxone           0.948718  0.974359  0.782051  0.858974  0.961538   \n",
       "Saureus-ciprofloxacine  1.000000  0.948052  0.974026  0.961039  0.922078   \n",
       "Saureus-fusidic         0.918033  1.000000  0.901639  0.918033  0.819672   \n",
       "Saureus-oxacillin       1.000000  0.964286  0.958333  0.976191  0.904762   \n",
       "\n",
       "                        CNN+SMOTE   drug  patho  \n",
       "Ecoli-ceftriaxone        0.974684   ceft  ecoli  \n",
       "Ecoli-ciproproxacin      0.953020  cipro  ecoli  \n",
       "Ecoli-cefepime           1.000000   cefe  ecoli  \n",
       "Kpneu-cefepime           1.000000   cefe      K  \n",
       "Kpneu-ciprofloxacin      0.972603  cipro      K  \n",
       "K-ceftriaxone            1.000000   ceft      K  \n",
       "Saureus-ciprofloxacine   0.974026  cipro      S  \n",
       "Saureus-fusidic          1.000000    fus      S  \n",
       "Saureus-oxacillin        0.976191    oxa      S  "
      ]
     },
     "execution_count": 99,
     "metadata": {},
     "output_type": "execute_result"
    }
   ],
   "source": [
    "# normalize by row\n",
    "t_data = data.T\n",
    "max_ = t_data.max()\n",
    "max_\n",
    "t_data /= max_\n",
    "t_data\n",
    "# return\n",
    "t_t_data = t_data.T\n",
    "t_t_data['drug'] = ['ceft','cipro','cefe','cefe','cipro','ceft','cipro','fus','oxa']\n",
    "t_t_data['patho']=['ecoli','ecoli','ecoli','K','K','K',\"S\",'S','S']\n",
    "t_t_data"
   ]
  },
  {
   "cell_type": "code",
   "execution_count": 92,
   "metadata": {},
   "outputs": [
    {
     "data": {
      "image/png": "[encoded data removed]",
      "text/plain": [
       "<Figure size 1000x1000 with 4 Axes>"
      ]
     },
     "metadata": {},
     "output_type": "display_data"
    }
   ],
   "source": [
    "import seaborn as sns\n",
    "import matplotlib.pyplot as plt\n",
    "# Prepare a vector of color mapped to the 'cyl' column\n",
    "#colored_column = t_t_data['patho']\n",
    "#my_palette = dict(zip(colored_column.unique(), ['red','green','blue','orange','purple']))\n",
    "#row_colors = colored_column.map(my_palette)\n",
    "\n",
    "sns.clustermap(t_t_data.iloc[:,0:6], row_cluster=True )#, row_colors=row_colors,)\n",
    "plt.savefig(\"fig_heatmap.png\") "
   ]
  },
  {
   "cell_type": "code",
   "execution_count": 97,
   "metadata": {},
   "outputs": [
    {
     "name": "stderr",
     "output_type": "stream",
     "text": [
      "/var/folders/s2/yhnq83_56gv82yv_1ljbgf9h0000gn/T/ipykernel_35127/3606438246.py:1: FutureWarning: Dropping of nuisance columns in DataFrame reductions (with 'numeric_only=None') is deprecated; in a future version this will raise TypeError.  Select only valid columns before calling the reduction.\n",
      "  values= pd.DataFrame(t_t_data.median(axis=0), columns=[\"Median\"])\n"
     ]
    },
    {
     "data": {
      "text/html": [
       "<div>\n",
       "<style scoped>\n",
       "    .dataframe tbody tr th:only-of-type {\n",
       "        vertical-align: middle;\n",
       "    }\n",
       "\n",
       "    .dataframe tbody tr th {\n",
       "        vertical-align: top;\n",
       "    }\n",
       "\n",
       "    .dataframe thead th {\n",
       "        text-align: right;\n",
       "    }\n",
       "</style>\n",
       "<table border=\"1\" class=\"dataframe\">\n",
       "  <thead>\n",
       "    <tr style=\"text-align: right;\">\n",
       "      <th></th>\n",
       "      <th>Median</th>\n",
       "    </tr>\n",
       "  </thead>\n",
       "  <tbody>\n",
       "    <tr>\n",
       "      <th>Base</th>\n",
       "      <td>0.948718</td>\n",
       "    </tr>\n",
       "    <tr>\n",
       "      <th>SMOTE</th>\n",
       "      <td>0.974359</td>\n",
       "    </tr>\n",
       "    <tr>\n",
       "      <th>FS</th>\n",
       "      <td>0.901639</td>\n",
       "    </tr>\n",
       "    <tr>\n",
       "      <th>SMOTE+FS</th>\n",
       "      <td>0.934211</td>\n",
       "    </tr>\n",
       "    <tr>\n",
       "      <th>CNN</th>\n",
       "      <td>0.904762</td>\n",
       "    </tr>\n",
       "    <tr>\n",
       "      <th>CNN+SMOTE</th>\n",
       "      <td>0.976191</td>\n",
       "    </tr>\n",
       "  </tbody>\n",
       "</table>\n",
       "</div>"
      ],
      "text/plain": [
       "             Median\n",
       "Base       0.948718\n",
       "SMOTE      0.974359\n",
       "FS         0.901639\n",
       "SMOTE+FS   0.934211\n",
       "CNN        0.904762\n",
       "CNN+SMOTE  0.976191"
      ]
     },
     "execution_count": 97,
     "metadata": {},
     "output_type": "execute_result"
    }
   ],
   "source": [
    "values= pd.DataFrame(t_t_data.median(axis=0), columns=[\"Median\"])\n",
    "values\n"
   ]
  },
  {
   "cell_type": "code",
   "execution_count": 98,
   "metadata": {},
   "outputs": [
    {
     "data": {
      "text/plain": [
       "<AxesSubplot:ylabel='Median'>"
      ]
     },
     "execution_count": 98,
     "metadata": {},
     "output_type": "execute_result"
    },
    {
     "data": {
      "image/png": "[encoded data removed]",
      "text/plain": [
       "<Figure size 640x480 with 1 Axes>"
      ]
     },
     "metadata": {},
     "output_type": "display_data"
    }
   ],
   "source": [
    "\n",
    "sns.barplot(data=values, x= values.index, y= values['Median'])"
   ]
  },
  {
   "cell_type": "code",
   "execution_count": null,
   "metadata": {},
   "outputs": [],
   "source": []
  }
 ],
 "metadata": {
  "kernelspec": {
   "display_name": "Python 3",
   "language": "python",
   "name": "python3"
  },
  "language_info": {
   "codemirror_mode": {
    "name": "ipython",
    "version": 3
   },
   "file_extension": ".py",
   "mimetype": "text/x-python",
   "name": "python",
   "nbconvert_exporter": "python",
   "pygments_lexer": "ipython3",
   "version": "3.9.13"
  },
  "orig_nbformat": 4,
  "vscode": {
   "interpreter": {
    "hash": "49eb4e07654bc9630db6b78c68555081d97867e17a0a091374b3ea66563c05ad"
   }
  }
 },
 "nbformat": 4,
 "nbformat_minor": 2
}
