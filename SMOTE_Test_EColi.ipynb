{
 "cells": [
  {
   "cell_type": "code",
   "execution_count": 1,
   "id": "3be99b0d-de53-4211-bc7f-d31c98e8516f",
   "metadata": {},
   "outputs": [],
   "source": [
    "import matplotlib.pyplot as plt\n",
    "import pandas as pd\n",
    "import numpy as np\n",
    "from sklearn.model_selection import train_test_split\n",
    "from sklearn.metrics import roc_auc_score, accuracy_score, roc_curve, balanced_accuracy_score, f1_score, RocCurveDisplay\n",
    "from imblearn.over_sampling import SMOTE\n",
    "from sklearn.ensemble import GradientBoostingClassifier\n",
    "import lightgbm"
   ]
  },
  {
   "cell_type": "code",
   "execution_count": 2,
   "id": "b3af3fc5-a289-4260-be24-4bbe5b0f155d",
   "metadata": {},
   "outputs": [
    {
     "name": "stderr",
     "output_type": "stream",
     "text": [
      "/var/folders/v0/37fzp2hx3ns37mhx_9_xr5qh0000gn/T/ipykernel_48536/1115557230.py:3: DtypeWarning: Columns (71) have mixed types. Specify dtype option on import or set low_memory=False.\n",
      "  label_dataset_2017 = pd.read_csv(\"/Users/seanathon48/Desktop/CS_534/Final_Project/archive/DRIAMS-A/id/2017/2017_clean.csv\")\n"
     ]
    }
   ],
   "source": [
    "label_dataset_2015 = pd.read_csv(\"/Users/seanathon48/Desktop/CS_534/Final_Project/archive/DRIAMS-A/id/2015/2015_clean.csv\")\n",
    "label_dataset_2016 = pd.read_csv(\"/Users/seanathon48/Desktop/CS_534/Final_Project/archive/DRIAMS-A/id/2016/2016_clean.csv\")\n",
    "label_dataset_2017 = pd.read_csv(\"/Users/seanathon48/Desktop/CS_534/Final_Project/archive/DRIAMS-A/id/2017/2017_clean.csv\")\n",
    "label_dataset_2018 = pd.read_csv(\"/Users/seanathon48/Desktop/CS_534/Final_Project/archive/DRIAMS-A/id/2018/2018_clean.csv\")"
   ]
  },
  {
   "cell_type": "code",
   "execution_count": 3,
   "id": "931be3bc-2dfc-4b38-b394-689b4470f96f",
   "metadata": {},
   "outputs": [],
   "source": [
    "def proprocess_data(data_2015, data_2016, data_2017, data_2018, drug_name):\n",
    "    data_2015 = data_2015.loc[data_2015['species'] == \"Escherichia coli\"]\n",
    "    data_2016 = data_2016.loc[data_2016['species'] == \"Escherichia coli\"]\n",
    "    data_2017 = data_2017.loc[data_2017['species'] == \"Escherichia coli\"]\n",
    "    data_2018 = data_2018.loc[data_2018['species'] == \"Escherichia coli\"]\n",
    "    \n",
    "    only_drug_15 = data_2015[['code', drug_name]].dropna()\n",
    "    only_drug_16 = data_2016[['code', drug_name]].dropna()\n",
    "    only_drug_17 = data_2017[['code', drug_name]].dropna()\n",
    "    only_drug_18 = data_2018[['code', drug_name]].dropna()\n",
    "    \n",
    "    starting_dataset_15 = np.zeros((only_drug_15.shape[0], 6000))\n",
    "    base_path = \"/Users/seanathon48/Desktop/CS_534/Final_Project/archive/DRIAMS-A/binned_6000/2015/\"\n",
    "    for i in range(only_drug_15.shape[0]):\n",
    "        starting_dataset_15[i] = np.loadtxt(base_path + only_drug_15.iloc[i][\"code\"] + \".txt\", skiprows = 1, usecols = 1)\n",
    "    \n",
    "    starting_dataset_16 = np.zeros((only_drug_16.shape[0], 6000))\n",
    "    base_path = \"/Users/seanathon48/Desktop/CS_534/Final_Project/archive/DRIAMS-A/binned_6000/2016/\"\n",
    "    for i in range(only_drug_16.shape[0]):\n",
    "        starting_dataset_16[i] = np.loadtxt(base_path + only_drug_16.iloc[i][\"code\"] + \".txt\", skiprows = 1, usecols = 1)\n",
    "        \n",
    "    starting_dataset_17 = np.zeros((only_drug_17.shape[0], 6000))\n",
    "    base_path = \"/Users/seanathon48/Desktop/CS_534/Final_Project/archive/DRIAMS-A/binned_6000/2017/\"\n",
    "    for i in range(only_drug_17.shape[0]):\n",
    "        starting_dataset_17[i] = np.loadtxt(base_path + only_drug_17.iloc[i][\"code\"] + \".txt\", skiprows = 1, usecols = 1)\n",
    "        \n",
    "    starting_dataset_18 = np.zeros((only_drug_18.shape[0], 6000))\n",
    "    base_path = \"/Users/seanathon48/Desktop/CS_534/Final_Project/archive/DRIAMS-A/binned_6000/2018/\"\n",
    "    for i in range(only_drug_18.shape[0]):\n",
    "        starting_dataset_18[i] = np.loadtxt(base_path + only_drug_18.iloc[i][\"code\"] + \".txt\", skiprows = 1, usecols = 1)\n",
    "        \n",
    "    e_coli_numpy_15 = np.hstack((starting_dataset_15, np.array(only_drug_15[drug_name]).reshape(only_drug_15.shape[0], 1)))\n",
    "    e_coli_numpy_16 = np.hstack((starting_dataset_16, np.array(only_drug_16[drug_name]).reshape(only_drug_16.shape[0], 1)))\n",
    "    e_coli_numpy_17 = np.hstack((starting_dataset_17, np.array(only_drug_17[drug_name]).reshape(only_drug_17.shape[0], 1)))\n",
    "    e_coli_numpy_18 = np.hstack((starting_dataset_18, np.array(only_drug_18[drug_name]).reshape(only_drug_18.shape[0], 1)))\n",
    "    \n",
    "    e_coli_numpy = np.vstack((e_coli_numpy_15, e_coli_numpy_16, e_coli_numpy_17, e_coli_numpy_18))\n",
    "    \n",
    "    column_list = []\n",
    "    for i in range(1, 6001):\n",
    "        column_list.append(\"Bin \" + str(i))\n",
    "    column_list.append(\"Class\")\n",
    "    \n",
    "    e_coli_df = pd.DataFrame(e_coli_numpy, columns = column_list)\n",
    "    \n",
    "    return e_coli_df[(e_coli_df['Class'] == \"S\") | (e_coli_df['Class'] == \"R\")]\n"
   ]
  },
  {
   "cell_type": "code",
   "execution_count": 4,
   "id": "6de1a703-5b66-4bdc-be2e-680afbc173a0",
   "metadata": {},
   "outputs": [],
   "source": [
    "e_coli_df_ceftriaxone = proprocess_data(label_dataset_2015, label_dataset_2016, \n",
    "                                        label_dataset_2017, label_dataset_2018, \"Ceftriaxone\")"
   ]
  },
  {
   "cell_type": "code",
   "execution_count": 5,
   "id": "4b9cd711-c1e7-4a6a-a87a-262a3f2c51f3",
   "metadata": {},
   "outputs": [],
   "source": [
    "ceftriaxone_X = e_coli_df_ceftriaxone.iloc[:,:-1]\n",
    "ceftriaxone_y = e_coli_df_ceftriaxone.iloc[:,-1]\n",
    "\n",
    "ceftriaxone_X = ceftriaxone_X.astype(np.float64)\n",
    "ceftriaxone_y[ceftriaxone_y == \"S\"] = 0\n",
    "ceftriaxone_y[ceftriaxone_y == \"R\"] = 1\n",
    "ceftriaxone_y = ceftriaxone_y.astype(np.int64)"
   ]
  },
  {
   "cell_type": "code",
   "execution_count": 6,
   "id": "52d5bdf6-74e6-4c85-8c95-e7b5ba72cb92",
   "metadata": {},
   "outputs": [],
   "source": [
    "ceftriaxone_X_train, ceftriaxone_X_val_test, ceftriaxone_y_train, ceftriaxone_y_val_test = train_test_split(ceftriaxone_X, ceftriaxone_y, stratify=ceftriaxone_y, test_size=0.2, random_state=42)\n",
    "ceftriaxone_X_val, ceftriaxone_X_test, ceftriaxone_y_val, ceftriaxone_y_test = train_test_split(ceftriaxone_X_val_test, ceftriaxone_y_val_test, test_size=0.50, stratify=ceftriaxone_y_val_test, random_state=42)"
   ]
  },
  {
   "cell_type": "code",
   "execution_count": 7,
   "id": "2c4148d3-7c13-48a5-bc4d-60340afda47b",
   "metadata": {},
   "outputs": [
    {
     "name": "stdout",
     "output_type": "stream",
     "text": [
      "Training until validation scores don't improve for 30 rounds\n",
      "Early stopping, best iteration is:\n",
      "[68]\tvalid_0's binary_logloss: 0.284026\n"
     ]
    },
    {
     "data": {
      "text/html": [
       "<style>#sk-container-id-1 {color: black;background-color: white;}#sk-container-id-1 pre{padding: 0;}#sk-container-id-1 div.sk-toggleable {background-color: white;}#sk-container-id-1 label.sk-toggleable__label {cursor: pointer;display: block;width: 100%;margin-bottom: 0;padding: 0.3em;box-sizing: border-box;text-align: center;}#sk-container-id-1 label.sk-toggleable__label-arrow:before {content: \"▸\";float: left;margin-right: 0.25em;color: #696969;}#sk-container-id-1 label.sk-toggleable__label-arrow:hover:before {color: black;}#sk-container-id-1 div.sk-estimator:hover label.sk-toggleable__label-arrow:before {color: black;}#sk-container-id-1 div.sk-toggleable__content {max-height: 0;max-width: 0;overflow: hidden;text-align: left;background-color: #f0f8ff;}#sk-container-id-1 div.sk-toggleable__content pre {margin: 0.2em;color: black;border-radius: 0.25em;background-color: #f0f8ff;}#sk-container-id-1 input.sk-toggleable__control:checked~div.sk-toggleable__content {max-height: 200px;max-width: 100%;overflow: auto;}#sk-container-id-1 input.sk-toggleable__control:checked~label.sk-toggleable__label-arrow:before {content: \"▾\";}#sk-container-id-1 div.sk-estimator input.sk-toggleable__control:checked~label.sk-toggleable__label {background-color: #d4ebff;}#sk-container-id-1 div.sk-label input.sk-toggleable__control:checked~label.sk-toggleable__label {background-color: #d4ebff;}#sk-container-id-1 input.sk-hidden--visually {border: 0;clip: rect(1px 1px 1px 1px);clip: rect(1px, 1px, 1px, 1px);height: 1px;margin: -1px;overflow: hidden;padding: 0;position: absolute;width: 1px;}#sk-container-id-1 div.sk-estimator {font-family: monospace;background-color: #f0f8ff;border: 1px dotted black;border-radius: 0.25em;box-sizing: border-box;margin-bottom: 0.5em;}#sk-container-id-1 div.sk-estimator:hover {background-color: #d4ebff;}#sk-container-id-1 div.sk-parallel-item::after {content: \"\";width: 100%;border-bottom: 1px solid gray;flex-grow: 1;}#sk-container-id-1 div.sk-label:hover label.sk-toggleable__label {background-color: #d4ebff;}#sk-container-id-1 div.sk-serial::before {content: \"\";position: absolute;border-left: 1px solid gray;box-sizing: border-box;top: 0;bottom: 0;left: 50%;z-index: 0;}#sk-container-id-1 div.sk-serial {display: flex;flex-direction: column;align-items: center;background-color: white;padding-right: 0.2em;padding-left: 0.2em;position: relative;}#sk-container-id-1 div.sk-item {position: relative;z-index: 1;}#sk-container-id-1 div.sk-parallel {display: flex;align-items: stretch;justify-content: center;background-color: white;position: relative;}#sk-container-id-1 div.sk-item::before, #sk-container-id-1 div.sk-parallel-item::before {content: \"\";position: absolute;border-left: 1px solid gray;box-sizing: border-box;top: 0;bottom: 0;left: 50%;z-index: -1;}#sk-container-id-1 div.sk-parallel-item {display: flex;flex-direction: column;z-index: 1;position: relative;background-color: white;}#sk-container-id-1 div.sk-parallel-item:first-child::after {align-self: flex-end;width: 50%;}#sk-container-id-1 div.sk-parallel-item:last-child::after {align-self: flex-start;width: 50%;}#sk-container-id-1 div.sk-parallel-item:only-child::after {width: 0;}#sk-container-id-1 div.sk-dashed-wrapped {border: 1px dashed gray;margin: 0 0.4em 0.5em 0.4em;box-sizing: border-box;padding-bottom: 0.4em;background-color: white;}#sk-container-id-1 div.sk-label label {font-family: monospace;font-weight: bold;display: inline-block;line-height: 1.2em;}#sk-container-id-1 div.sk-label-container {text-align: center;}#sk-container-id-1 div.sk-container {/* jupyter's `normalize.less` sets `[hidden] { display: none; }` but bootstrap.min.css set `[hidden] { display: none !important; }` so we also need the `!important` here to be able to override the default hidden behavior on the sphinx rendered scikit-learn.org. See: https://github.com/scikit-learn/scikit-learn/issues/21755 */display: inline-block !important;position: relative;}#sk-container-id-1 div.sk-text-repr-fallback {display: none;}</style><div id=\"sk-container-id-1\" class=\"sk-top-container\"><div class=\"sk-text-repr-fallback\"><pre>LGBMClassifier(objective=&#x27;binary&#x27;, seed=42)</pre><b>In a Jupyter environment, please rerun this cell to show the HTML representation or trust the notebook. <br />On GitHub, the HTML representation is unable to render, please try loading this page with nbviewer.org.</b></div><div class=\"sk-container\" hidden><div class=\"sk-item\"><div class=\"sk-estimator sk-toggleable\"><input class=\"sk-toggleable__control sk-hidden--visually\" id=\"sk-estimator-id-1\" type=\"checkbox\" checked><label for=\"sk-estimator-id-1\" class=\"sk-toggleable__label sk-toggleable__label-arrow\">LGBMClassifier</label><div class=\"sk-toggleable__content\"><pre>LGBMClassifier(objective=&#x27;binary&#x27;, seed=42)</pre></div></div></div></div></div>"
      ],
      "text/plain": [
       "LGBMClassifier(objective='binary', seed=42)"
      ]
     },
     "execution_count": 7,
     "metadata": {},
     "output_type": "execute_result"
    }
   ],
   "source": [
    "regular_lightgbm = lightgbm.LGBMClassifier(objective=\"binary\", seed=42)\n",
    "regular_lightgbm.fit(ceftriaxone_X_train, ceftriaxone_y_train, eval_set = (ceftriaxone_X_val, ceftriaxone_y_val), \n",
    "                     callbacks = [lightgbm.early_stopping(30)])\n"
   ]
  },
  {
   "cell_type": "code",
   "execution_count": 8,
   "id": "b3035957-abd5-4e6a-b939-6030146f1143",
   "metadata": {},
   "outputs": [
    {
     "name": "stdout",
     "output_type": "stream",
     "text": [
      "ROC = 0.7376384116074838\n",
      "ACC = 0.8770161290322581\n",
      "F1 SCORE = 0.6347305389221558\n"
     ]
    }
   ],
   "source": [
    "ceftriaxone_y_pred = regular_lightgbm.predict(ceftriaxone_X_test)\n",
    "print('ROC =', roc_auc_score(ceftriaxone_y_test, ceftriaxone_y_pred))\n",
    "print('ACC =', accuracy_score(ceftriaxone_y_test, ceftriaxone_y_pred))\n",
    "print('F1 SCORE =', f1_score(ceftriaxone_y_test, ceftriaxone_y_pred))"
   ]
  },
  {
   "cell_type": "code",
   "execution_count": 9,
   "id": "573a9676-37c3-46e8-9c61-260e34eae566",
   "metadata": {},
   "outputs": [],
   "source": [
    "ceftriaxone_X_train_resampled, ceftriaxone_y_train_resampled = SMOTE(random_state=42).fit_resample(ceftriaxone_X_train, ceftriaxone_y_train)\n"
   ]
  },
  {
   "cell_type": "code",
   "execution_count": 10,
   "id": "13eca0b2-7a33-41e8-a379-9872a2f64705",
   "metadata": {},
   "outputs": [
    {
     "name": "stdout",
     "output_type": "stream",
     "text": [
      "Training until validation scores don't improve for 30 rounds\n",
      "Did not meet early stopping. Best iteration is:\n",
      "[100]\tvalid_0's binary_logloss: 0.253252\n"
     ]
    },
    {
     "data": {
      "text/html": [
       "<style>#sk-container-id-2 {color: black;background-color: white;}#sk-container-id-2 pre{padding: 0;}#sk-container-id-2 div.sk-toggleable {background-color: white;}#sk-container-id-2 label.sk-toggleable__label {cursor: pointer;display: block;width: 100%;margin-bottom: 0;padding: 0.3em;box-sizing: border-box;text-align: center;}#sk-container-id-2 label.sk-toggleable__label-arrow:before {content: \"▸\";float: left;margin-right: 0.25em;color: #696969;}#sk-container-id-2 label.sk-toggleable__label-arrow:hover:before {color: black;}#sk-container-id-2 div.sk-estimator:hover label.sk-toggleable__label-arrow:before {color: black;}#sk-container-id-2 div.sk-toggleable__content {max-height: 0;max-width: 0;overflow: hidden;text-align: left;background-color: #f0f8ff;}#sk-container-id-2 div.sk-toggleable__content pre {margin: 0.2em;color: black;border-radius: 0.25em;background-color: #f0f8ff;}#sk-container-id-2 input.sk-toggleable__control:checked~div.sk-toggleable__content {max-height: 200px;max-width: 100%;overflow: auto;}#sk-container-id-2 input.sk-toggleable__control:checked~label.sk-toggleable__label-arrow:before {content: \"▾\";}#sk-container-id-2 div.sk-estimator input.sk-toggleable__control:checked~label.sk-toggleable__label {background-color: #d4ebff;}#sk-container-id-2 div.sk-label input.sk-toggleable__control:checked~label.sk-toggleable__label {background-color: #d4ebff;}#sk-container-id-2 input.sk-hidden--visually {border: 0;clip: rect(1px 1px 1px 1px);clip: rect(1px, 1px, 1px, 1px);height: 1px;margin: -1px;overflow: hidden;padding: 0;position: absolute;width: 1px;}#sk-container-id-2 div.sk-estimator {font-family: monospace;background-color: #f0f8ff;border: 1px dotted black;border-radius: 0.25em;box-sizing: border-box;margin-bottom: 0.5em;}#sk-container-id-2 div.sk-estimator:hover {background-color: #d4ebff;}#sk-container-id-2 div.sk-parallel-item::after {content: \"\";width: 100%;border-bottom: 1px solid gray;flex-grow: 1;}#sk-container-id-2 div.sk-label:hover label.sk-toggleable__label {background-color: #d4ebff;}#sk-container-id-2 div.sk-serial::before {content: \"\";position: absolute;border-left: 1px solid gray;box-sizing: border-box;top: 0;bottom: 0;left: 50%;z-index: 0;}#sk-container-id-2 div.sk-serial {display: flex;flex-direction: column;align-items: center;background-color: white;padding-right: 0.2em;padding-left: 0.2em;position: relative;}#sk-container-id-2 div.sk-item {position: relative;z-index: 1;}#sk-container-id-2 div.sk-parallel {display: flex;align-items: stretch;justify-content: center;background-color: white;position: relative;}#sk-container-id-2 div.sk-item::before, #sk-container-id-2 div.sk-parallel-item::before {content: \"\";position: absolute;border-left: 1px solid gray;box-sizing: border-box;top: 0;bottom: 0;left: 50%;z-index: -1;}#sk-container-id-2 div.sk-parallel-item {display: flex;flex-direction: column;z-index: 1;position: relative;background-color: white;}#sk-container-id-2 div.sk-parallel-item:first-child::after {align-self: flex-end;width: 50%;}#sk-container-id-2 div.sk-parallel-item:last-child::after {align-self: flex-start;width: 50%;}#sk-container-id-2 div.sk-parallel-item:only-child::after {width: 0;}#sk-container-id-2 div.sk-dashed-wrapped {border: 1px dashed gray;margin: 0 0.4em 0.5em 0.4em;box-sizing: border-box;padding-bottom: 0.4em;background-color: white;}#sk-container-id-2 div.sk-label label {font-family: monospace;font-weight: bold;display: inline-block;line-height: 1.2em;}#sk-container-id-2 div.sk-label-container {text-align: center;}#sk-container-id-2 div.sk-container {/* jupyter's `normalize.less` sets `[hidden] { display: none; }` but bootstrap.min.css set `[hidden] { display: none !important; }` so we also need the `!important` here to be able to override the default hidden behavior on the sphinx rendered scikit-learn.org. See: https://github.com/scikit-learn/scikit-learn/issues/21755 */display: inline-block !important;position: relative;}#sk-container-id-2 div.sk-text-repr-fallback {display: none;}</style><div id=\"sk-container-id-2\" class=\"sk-top-container\"><div class=\"sk-text-repr-fallback\"><pre>LGBMClassifier(objective=&#x27;binary&#x27;, seed=42)</pre><b>In a Jupyter environment, please rerun this cell to show the HTML representation or trust the notebook. <br />On GitHub, the HTML representation is unable to render, please try loading this page with nbviewer.org.</b></div><div class=\"sk-container\" hidden><div class=\"sk-item\"><div class=\"sk-estimator sk-toggleable\"><input class=\"sk-toggleable__control sk-hidden--visually\" id=\"sk-estimator-id-2\" type=\"checkbox\" checked><label for=\"sk-estimator-id-2\" class=\"sk-toggleable__label sk-toggleable__label-arrow\">LGBMClassifier</label><div class=\"sk-toggleable__content\"><pre>LGBMClassifier(objective=&#x27;binary&#x27;, seed=42)</pre></div></div></div></div></div>"
      ],
      "text/plain": [
       "LGBMClassifier(objective='binary', seed=42)"
      ]
     },
     "execution_count": 10,
     "metadata": {},
     "output_type": "execute_result"
    }
   ],
   "source": [
    "smote_lightgbm = lightgbm.LGBMClassifier(objective=\"binary\", seed=42)\n",
    "smote_lightgbm.fit(ceftriaxone_X_train_resampled, ceftriaxone_y_train_resampled, eval_set = (ceftriaxone_X_val, ceftriaxone_y_val), \n",
    "                     callbacks = [lightgbm.early_stopping(30)])"
   ]
  },
  {
   "cell_type": "code",
   "execution_count": 11,
   "id": "0b409237-1b9d-4f16-b8d5-318b114deed2",
   "metadata": {},
   "outputs": [
    {
     "name": "stdout",
     "output_type": "stream",
     "text": [
      "ROC = 0.7939576174112256\n",
      "ACC = 0.8971774193548387\n",
      "F1 SCORE = 0.7213114754098361\n"
     ]
    }
   ],
   "source": [
    "ceftriaxone_y_pred_resampled = smote_lightgbm.predict(ceftriaxone_X_test)\n",
    "print('ROC =', roc_auc_score(ceftriaxone_y_test, ceftriaxone_y_pred_resampled))\n",
    "print('ACC =', accuracy_score(ceftriaxone_y_test, ceftriaxone_y_pred_resampled))\n",
    "print('F1 SCORE =', f1_score(ceftriaxone_y_test, ceftriaxone_y_pred_resampled))"
   ]
  },
  {
   "cell_type": "code",
   "execution_count": 12,
   "id": "cf667faa-063f-4134-96f7-e443b4d02bc8",
   "metadata": {},
   "outputs": [
    {
     "data": {
      "text/plain": [
       "<matplotlib.legend.Legend at 0x2849b3940>"
      ]
     },
     "execution_count": 12,
     "metadata": {},
     "output_type": "execute_result"
    },
    {
     "data": {
      "image/png": "[encoded data removed]",
      "text/plain": [
       "<Figure size 640x480 with 1 Axes>"
      ]
     },
     "metadata": {},
     "output_type": "display_data"
    }
   ],
   "source": [
    "fpr_regular, tpr_regular, thresholds = roc_curve(ceftriaxone_y_test, regular_lightgbm.predict_proba(ceftriaxone_X_test)[:, 1], pos_label=1)\n",
    "auc = round(roc_auc_score(ceftriaxone_y_test, ceftriaxone_y_pred), 4)\n",
    "plt.plot(fpr_regular, tpr_regular, label=\"Without SMOTE, AUC=\" + str(auc))\n",
    "\n",
    "fpr_smote, tpr_smote, thresholds = roc_curve(ceftriaxone_y_test, smote_lightgbm.predict_proba(ceftriaxone_X_test)[:, 1], pos_label=1)\n",
    "auc = round(roc_auc_score(ceftriaxone_y_test, ceftriaxone_y_pred_resampled), 4)\n",
    "plt.plot(fpr_smote, tpr_smote, label=\"With SMOTE, AUC=\" + str(auc))\n",
    "plt.xlabel(\"False Positive Rate\")\n",
    "plt.ylabel(\"True Positive Rate\")\n",
    "plt.title(\"ROC Curves for E. Coli using LightGBM - Ceftriaxone Antibiotic\")\n",
    "plt.legend(loc = \"lower right\")"
   ]
  },
  {
   "cell_type": "code",
   "execution_count": null,
   "id": "50cd5794-96bd-465f-b459-349cdc368828",
   "metadata": {},
   "outputs": [],
   "source": []
  },
  {
   "cell_type": "code",
   "execution_count": null,
   "id": "bd3e4d14-e551-4859-9ab1-af8c6ea3f584",
   "metadata": {},
   "outputs": [],
   "source": []
  }
 ],
 "metadata": {
  "kernelspec": {
   "display_name": "Python 3 (ipykernel)",
   "language": "python",
   "name": "python3"
  },
  "language_info": {
   "codemirror_mode": {
    "name": "ipython",
    "version": 3
   },
   "file_extension": ".py",
   "mimetype": "text/x-python",
   "name": "python",
   "nbconvert_exporter": "python",
   "pygments_lexer": "ipython3",
   "version": "3.9.15"
  }
 },
 "nbformat": 4,
 "nbformat_minor": 5
}
