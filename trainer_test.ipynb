{
 "cells": [
  {
   "cell_type": "markdown",
   "source": [
    "# Trainer Demo"
   ],
   "metadata": {
    "collapsed": false,
    "pycharm": {
     "name": "#%% md\n"
    }
   }
  },
  {
   "cell_type": "code",
   "execution_count": 7,
   "metadata": {
    "collapsed": true,
    "pycharm": {
     "name": "#%%\n"
    }
   },
   "outputs": [
    {
     "name": "stdout",
     "output_type": "stream",
     "text": [
      "The autoreload extension is already loaded. To reload it, use:\n",
      "  %reload_ext autoreload\n"
     ]
    }
   ],
   "source": [
    "# enable auto-reloading submodules\n",
    "%load_ext autoreload\n",
    "%autoreload 2"
   ]
  },
  {
   "cell_type": "markdown",
   "source": [
    "## Init Trainer"
   ],
   "metadata": {
    "collapsed": false,
    "pycharm": {
     "name": "#%% md\n"
    }
   }
  },
  {
   "cell_type": "code",
   "execution_count": 8,
   "outputs": [],
   "source": [
    "from trainer import Trainer\n",
    "\n",
    "trainer = Trainer(\n",
    "    # target pathogen\n",
    "    pathogen='Escherichia coli',\n",
    "    # number of folds\n",
    "    n_splits=5,\n",
    "    # DRIAMS sites\n",
    "    sites=['A'],\n",
    "    # the years of the data to load\n",
    "    years=[2015, 2016, 2017, 2018],\n",
    ")"
   ],
   "metadata": {
    "collapsed": false,
    "pycharm": {
     "name": "#%%\n"
    }
   }
  },
  {
   "cell_type": "markdown",
   "source": [
    "## Training"
   ],
   "metadata": {
    "collapsed": false,
    "pycharm": {
     "name": "#%% md\n"
    }
   }
  },
  {
   "cell_type": "code",
   "execution_count": 9,
   "outputs": [
    {
     "name": "stdout",
     "output_type": "stream",
     "text": [
      "Loading Ceftriaxone...\n",
      "Training w/o SMOTE...\n",
      "Fold 1/5...\n",
      "AUC=0.5615668202764977, ACC=0.8074596774193549, f1=0.22040816326530616\n",
      "Fold 2/5...\n",
      "AUC=0.5391705069124424, ACC=0.7983870967741935, f1=0.14529914529914528\n",
      "Fold 3/5...\n",
      "AUC=0.5552995391705069, ACC=0.8054435483870968, f1=0.19917012448132781\n",
      "Fold 4/5...\n",
      "AUC=0.5701382488479262, ACC=0.8104838709677419, f1=0.24800000000000003\n",
      "Fold 5/5...\n",
      "AUC=0.5483870967741935, ACC=0.8024193548387096, f1=0.17647058823529413\n",
      "Training w/ SMOTE...\n",
      "Fold 1/5...\n",
      "AUC=0.7659907834101383, ACC=0.8417338709677419, f1=0.6357308584686775\n",
      "Fold 2/5...\n",
      "AUC=0.7399078341013825, ACC=0.8346774193548387, f1=0.6019417475728155\n",
      "Fold 3/5...\n",
      "AUC=0.755115207373272, ACC=0.8377016129032258, f1=0.6211764705882353\n",
      "Fold 4/5...\n",
      "AUC=0.7484792626728111, ACC=0.8377016129032258, f1=0.6139088729016786\n",
      "Fold 5/5...\n",
      "AUC=0.7346543778801843, ACC=0.813508064516129, f1=0.5823927765237019\n",
      "Loading Ciprofloxacin...\n",
      "Training w/o SMOTE...\n",
      "Fold 1/5...\n",
      "AUC=0.5, ACC=0.7147302904564315, f1=0.0\n",
      "Fold 2/5...\n",
      "AUC=0.5, ACC=0.715472481827622, f1=0.0\n",
      "Fold 3/5...\n",
      "AUC=0.5, ACC=0.715472481827622, f1=0.0\n",
      "Fold 4/5...\n",
      "AUC=0.5, ACC=0.715472481827622, f1=0.0\n",
      "Fold 5/5...\n",
      "AUC=0.5, ACC=0.715472481827622, f1=0.0\n",
      "Training w/ SMOTE...\n",
      "Fold 1/5...\n",
      "AUC=0.6896714606148568, ACC=0.7375518672199171, f1=0.5569176882661996\n",
      "Fold 2/5...\n",
      "AUC=0.719113175765152, ACC=0.7663551401869159, f1=0.5974955277280859\n",
      "Fold 3/5...\n",
      "AUC=0.6786361276789592, ACC=0.7383177570093458, f1=0.5401459854014599\n",
      "Fold 4/5...\n",
      "AUC=0.6899584714968271, ACC=0.7435098650051921, f1=0.5565529622980251\n",
      "Fold 5/5...\n",
      "AUC=0.6972153655461739, ACC=0.7538940809968847, f1=0.5667276051188299\n",
      "Loading Cefepime...\n",
      "Training w/o SMOTE...\n",
      "Fold 1/5...\n",
      "AUC=0.5, ACC=0.9236902050113895, f1=0.0\n",
      "Fold 2/5...\n",
      "AUC=0.5, ACC=0.9236031927023945, f1=0.0\n",
      "Fold 3/5...\n",
      "AUC=0.5, ACC=0.9236031927023945, f1=0.0\n",
      "Fold 4/5...\n",
      "AUC=0.5, ACC=0.9236031927023945, f1=0.0\n",
      "Fold 5/5...\n",
      "AUC=0.5, ACC=0.9236031927023945, f1=0.0\n",
      "Training w/ SMOTE...\n",
      "Fold 1/5...\n",
      "AUC=0.6957137861862083, ACC=0.8678815489749431, f1=0.3626373626373626\n",
      "Fold 2/5...\n",
      "AUC=0.671466740372213, ACC=0.8483466362599772, f1=0.317948717948718\n",
      "Fold 3/5...\n",
      "AUC=0.6546895153860327, ACC=0.8426453819840365, f1=0.29591836734693877\n",
      "Fold 4/5...\n",
      "AUC=0.6777501381978993, ACC=0.8346636259977195, f1=0.3127962085308057\n",
      "Fold 5/5...\n",
      "AUC=0.629159756771697, ACC=0.8460661345496009, f1=0.27027027027027023\n",
      "Loading Ceftriaxone...\n",
      "Training w/o SMOTE...\n",
      "Fold 1/5...\n",
      "AUC=0.5368663594470046, ACC=0.7973790322580645, f1=0.13733905579399142\n",
      "Fold 2/5...\n",
      "AUC=0.540184331797235, ACC=0.7973790322580645, f1=0.1518987341772152\n",
      "Fold 3/5...\n",
      "AUC=0.5460829493087558, ACC=0.8014112903225806, f1=0.16877637130801687\n",
      "Fold 4/5...\n",
      "AUC=0.5668202764976958, ACC=0.8104838709677419, f1=0.23577235772357724\n",
      "Fold 5/5...\n",
      "AUC=0.5477419354838708, ACC=0.8014112903225806, f1=0.17573221757322177\n",
      "Training w/ SMOTE...\n",
      "Fold 1/5...\n",
      "AUC=0.747926267281106, ACC=0.813508064516129, f1=0.5969498910675382\n",
      "Fold 2/5...\n",
      "AUC=0.7370506912442396, ACC=0.8094758064516129, f1=0.5827814569536425\n",
      "Fold 3/5...\n",
      "AUC=0.7532718894009216, ACC=0.8477822580645161, f1=0.6271604938271604\n",
      "Fold 4/5...\n",
      "AUC=0.7618433179723503, ACC=0.8508064516129032, f1=0.6390243902439025\n",
      "Fold 5/5...\n",
      "AUC=0.7517972350230414, ACC=0.8377016129032258, f1=0.6175771971496438\n",
      "Loading Ciprofloxacin...\n"
     ]
    },
    {
     "ename": "KeyboardInterrupt",
     "evalue": "",
     "output_type": "error",
     "traceback": [
      "\u001B[1;31m---------------------------------------------------------------------------\u001B[0m",
      "\u001B[1;31mKeyboardInterrupt\u001B[0m                         Traceback (most recent call last)",
      "Input \u001B[1;32mIn [9]\u001B[0m, in \u001B[0;36m<cell line: 13>\u001B[1;34m()\u001B[0m\n\u001B[0;32m      4\u001B[0m trainer\u001B[38;5;241m.\u001B[39mfit(\n\u001B[0;32m      5\u001B[0m     drug\u001B[38;5;241m=\u001B[39m\u001B[38;5;124m'\u001B[39m\u001B[38;5;124mCeftriaxone\u001B[39m\u001B[38;5;124m'\u001B[39m,\n\u001B[0;32m      6\u001B[0m     model\u001B[38;5;241m=\u001B[39mLGBMClassifier(\n\u001B[1;32m   (...)\u001B[0m\n\u001B[0;32m     10\u001B[0m     )\n\u001B[0;32m     11\u001B[0m )\n\u001B[0;32m     12\u001B[0m \u001B[38;5;66;03m# Ciprofloxacin\u001B[39;00m\n\u001B[1;32m---> 13\u001B[0m \u001B[43mtrainer\u001B[49m\u001B[38;5;241;43m.\u001B[39;49m\u001B[43mfit\u001B[49m\u001B[43m(\u001B[49m\n\u001B[0;32m     14\u001B[0m \u001B[43m    \u001B[49m\u001B[43mdrug\u001B[49m\u001B[38;5;241;43m=\u001B[39;49m\u001B[38;5;124;43m'\u001B[39;49m\u001B[38;5;124;43mCiprofloxacin\u001B[39;49m\u001B[38;5;124;43m'\u001B[39;49m\u001B[43m,\u001B[49m\n\u001B[0;32m     15\u001B[0m \u001B[43m    \u001B[49m\u001B[43mmodel\u001B[49m\u001B[38;5;241;43m=\u001B[39;49m\u001B[43mLGBMClassifier\u001B[49m\u001B[43m(\u001B[49m\n\u001B[0;32m     16\u001B[0m \u001B[43m        \u001B[49m\u001B[43mboosting_type\u001B[49m\u001B[38;5;241;43m=\u001B[39;49m\u001B[38;5;124;43m'\u001B[39;49m\u001B[38;5;124;43mgbdt\u001B[39;49m\u001B[38;5;124;43m'\u001B[39;49m\u001B[43m,\u001B[49m\n\u001B[0;32m     17\u001B[0m \u001B[43m        \u001B[49m\u001B[43mlearning_rate\u001B[49m\u001B[38;5;241;43m=\u001B[39;49m\u001B[38;5;241;43m0.02\u001B[39;49m\u001B[43m,\u001B[49m\n\u001B[0;32m     18\u001B[0m \u001B[43m        \u001B[49m\u001B[43mn_estimators\u001B[49m\u001B[38;5;241;43m=\u001B[39;49m\u001B[38;5;241;43m15\u001B[39;49m\u001B[43m,\u001B[49m\n\u001B[0;32m     19\u001B[0m \u001B[43m    \u001B[49m\u001B[43m)\u001B[49m\n\u001B[0;32m     20\u001B[0m \u001B[43m)\u001B[49m\n\u001B[0;32m     21\u001B[0m \u001B[38;5;66;03m# Cefepime\u001B[39;00m\n\u001B[0;32m     22\u001B[0m trainer\u001B[38;5;241m.\u001B[39mfit(\n\u001B[0;32m     23\u001B[0m     drug\u001B[38;5;241m=\u001B[39m\u001B[38;5;124m'\u001B[39m\u001B[38;5;124mCefepime\u001B[39m\u001B[38;5;124m'\u001B[39m,\n\u001B[0;32m     24\u001B[0m     model\u001B[38;5;241m=\u001B[39mLGBMClassifier(\n\u001B[1;32m   (...)\u001B[0m\n\u001B[0;32m     28\u001B[0m     )\n\u001B[0;32m     29\u001B[0m )\n",
      "File \u001B[1;32m~/Desktop/Projects/CS534FinalMSpathogens/trainer.py:53\u001B[0m, in \u001B[0;36mTrainer.fit\u001B[1;34m(self, drug, model)\u001B[0m\n\u001B[0;32m     44\u001B[0m \u001B[38;5;124;03m\"\"\"\u001B[39;00m\n\u001B[0;32m     45\u001B[0m \u001B[38;5;124;03mFit the model to the specified drug dataset\u001B[39;00m\n\u001B[0;32m     46\u001B[0m \n\u001B[1;32m   (...)\u001B[0m\n\u001B[0;32m     49\u001B[0m \u001B[38;5;124;03m    model: model to fit\u001B[39;00m\n\u001B[0;32m     50\u001B[0m \u001B[38;5;124;03m\"\"\"\u001B[39;00m\n\u001B[0;32m     51\u001B[0m \u001B[38;5;28mprint\u001B[39m(\u001B[38;5;124mf\u001B[39m\u001B[38;5;124m'\u001B[39m\u001B[38;5;124mLoading \u001B[39m\u001B[38;5;132;01m{\u001B[39;00mdrug\u001B[38;5;132;01m}\u001B[39;00m\u001B[38;5;124m...\u001B[39m\u001B[38;5;124m'\u001B[39m)\n\u001B[1;32m---> 53\u001B[0m X, y \u001B[38;5;241m=\u001B[39m \u001B[43mload_data\u001B[49m\u001B[43m(\u001B[49m\n\u001B[0;32m     54\u001B[0m \u001B[43m    \u001B[49m\u001B[43mpathogen\u001B[49m\u001B[38;5;241;43m=\u001B[39;49m\u001B[38;5;28;43mself\u001B[39;49m\u001B[38;5;241;43m.\u001B[39;49m\u001B[43mpathogen\u001B[49m\u001B[43m,\u001B[49m\n\u001B[0;32m     55\u001B[0m \u001B[43m    \u001B[49m\u001B[43mdrug\u001B[49m\u001B[38;5;241;43m=\u001B[39;49m\u001B[43mdrug\u001B[49m\u001B[43m,\u001B[49m\n\u001B[0;32m     56\u001B[0m \u001B[43m    \u001B[49m\u001B[43msites\u001B[49m\u001B[38;5;241;43m=\u001B[39;49m\u001B[38;5;28;43mself\u001B[39;49m\u001B[38;5;241;43m.\u001B[39;49m\u001B[43msites\u001B[49m\u001B[43m,\u001B[49m\n\u001B[0;32m     57\u001B[0m \u001B[43m    \u001B[49m\u001B[43myears\u001B[49m\u001B[38;5;241;43m=\u001B[39;49m\u001B[38;5;28;43mself\u001B[39;49m\u001B[38;5;241;43m.\u001B[39;49m\u001B[43myears\u001B[49m\u001B[43m,\u001B[49m\n\u001B[0;32m     58\u001B[0m \u001B[43m\u001B[49m\u001B[43m)\u001B[49m\n\u001B[0;32m     60\u001B[0m \u001B[38;5;28mprint\u001B[39m(\u001B[38;5;124m'\u001B[39m\u001B[38;5;124mTraining w/o SMOTE...\u001B[39m\u001B[38;5;124m'\u001B[39m)\n\u001B[0;32m     61\u001B[0m \u001B[38;5;28mself\u001B[39m\u001B[38;5;241m.\u001B[39mbase_results[drug] \u001B[38;5;241m=\u001B[39m \u001B[38;5;28mself\u001B[39m\u001B[38;5;241m.\u001B[39m_train_and_eval(X, y, model, \u001B[38;5;28;01mFalse\u001B[39;00m)\n",
      "File \u001B[1;32m~/Desktop/Projects/CS534FinalMSpathogens/utils.py:311\u001B[0m, in \u001B[0;36mload_data\u001B[1;34m(pathogen, drug, sites, years)\u001B[0m\n\u001B[0;32m    308\u001B[0m df \u001B[38;5;241m=\u001B[39m df[[\u001B[38;5;124m'\u001B[39m\u001B[38;5;124mcode\u001B[39m\u001B[38;5;124m'\u001B[39m, drug]]\u001B[38;5;241m.\u001B[39mdropna()\n\u001B[0;32m    310\u001B[0m \u001B[38;5;66;03m# X\u001B[39;00m\n\u001B[1;32m--> 311\u001B[0m X\u001B[38;5;241m.\u001B[39mappend(\u001B[43m_load_bins\u001B[49m\u001B[43m(\u001B[49m\u001B[43mdf\u001B[49m\u001B[43m,\u001B[49m\u001B[43m \u001B[49m\u001B[43mds\u001B[49m\u001B[43m,\u001B[49m\u001B[43m \u001B[49m\u001B[43myr\u001B[49m\u001B[43m)\u001B[49m)\n\u001B[0;32m    313\u001B[0m \u001B[38;5;66;03m# y\u001B[39;00m\n\u001B[0;32m    314\u001B[0m labels \u001B[38;5;241m=\u001B[39m df[drug]\n",
      "File \u001B[1;32m~/Desktop/Projects/CS534FinalMSpathogens/utils.py:265\u001B[0m, in \u001B[0;36m_load_bins\u001B[1;34m(df, site, year)\u001B[0m\n\u001B[0;32m    262\u001B[0m bins \u001B[38;5;241m=\u001B[39m []\n\u001B[0;32m    264\u001B[0m \u001B[38;5;28;01mfor\u001B[39;00m code \u001B[38;5;129;01min\u001B[39;00m df[\u001B[38;5;124m'\u001B[39m\u001B[38;5;124mcode\u001B[39m\u001B[38;5;124m'\u001B[39m]:\n\u001B[1;32m--> 265\u001B[0m     bins\u001B[38;5;241m.\u001B[39mappend(\u001B[43mnp\u001B[49m\u001B[38;5;241;43m.\u001B[39;49m\u001B[43mloadtxt\u001B[49m\u001B[43m(\u001B[49m\n\u001B[0;32m    266\u001B[0m \u001B[43m        \u001B[49m\u001B[38;5;124;43mf\u001B[39;49m\u001B[38;5;124;43m'\u001B[39;49m\u001B[38;5;124;43m./archive/DRIAMS-\u001B[39;49m\u001B[38;5;132;43;01m{\u001B[39;49;00m\u001B[43msite\u001B[49m\u001B[38;5;132;43;01m}\u001B[39;49;00m\u001B[38;5;124;43m/binned_6000/\u001B[39;49m\u001B[38;5;132;43;01m{\u001B[39;49;00m\u001B[43myear\u001B[49m\u001B[38;5;132;43;01m}\u001B[39;49;00m\u001B[38;5;124;43m/\u001B[39;49m\u001B[38;5;132;43;01m{\u001B[39;49;00m\u001B[43mcode\u001B[49m\u001B[38;5;132;43;01m}\u001B[39;49;00m\u001B[38;5;124;43m.txt\u001B[39;49m\u001B[38;5;124;43m'\u001B[39;49m\u001B[43m,\u001B[49m\n\u001B[0;32m    267\u001B[0m \u001B[43m        \u001B[49m\u001B[43mskiprows\u001B[49m\u001B[38;5;241;43m=\u001B[39;49m\u001B[38;5;241;43m1\u001B[39;49m\u001B[43m,\u001B[49m\n\u001B[0;32m    268\u001B[0m \u001B[43m        \u001B[49m\u001B[43musecols\u001B[49m\u001B[38;5;241;43m=\u001B[39;49m\u001B[38;5;241;43m1\u001B[39;49m\u001B[43m,\u001B[49m\n\u001B[0;32m    269\u001B[0m \u001B[43m    \u001B[49m\u001B[43m)\u001B[49m)\n\u001B[0;32m    271\u001B[0m \u001B[38;5;28;01mreturn\u001B[39;00m np\u001B[38;5;241m.\u001B[39marray(bins)\n",
      "File \u001B[1;32m/opt/miniconda3/envs/cs534/lib/python3.8/site-packages/numpy/lib/npyio.py:1163\u001B[0m, in \u001B[0;36mloadtxt\u001B[1;34m(fname, dtype, comments, delimiter, converters, skiprows, usecols, unpack, ndmin, encoding, max_rows, like)\u001B[0m\n\u001B[0;32m   1159\u001B[0m         \u001B[38;5;28;01mraise\u001B[39;00m \u001B[38;5;167;01mValueError\u001B[39;00m(\n\u001B[0;32m   1160\u001B[0m             \u001B[38;5;124mf\u001B[39m\u001B[38;5;124m\"\u001B[39m\u001B[38;5;124mWrong number of columns at line \u001B[39m\u001B[38;5;132;01m{\u001B[39;00mlineno\u001B[38;5;132;01m}\u001B[39;00m\u001B[38;5;124m\"\u001B[39m)\n\u001B[0;32m   1161\u001B[0m     \u001B[38;5;66;03m# Convert each value according to its column, then pack it\u001B[39;00m\n\u001B[0;32m   1162\u001B[0m     \u001B[38;5;66;03m# according to the dtype's nesting, and store it.\u001B[39;00m\n\u001B[1;32m-> 1163\u001B[0m     chunk\u001B[38;5;241m.\u001B[39mappend(packer(\u001B[43mconvert_row\u001B[49m\u001B[43m(\u001B[49m\u001B[43mwords\u001B[49m\u001B[43m)\u001B[49m))\n\u001B[0;32m   1164\u001B[0m \u001B[38;5;28;01mif\u001B[39;00m \u001B[38;5;129;01mnot\u001B[39;00m chunk:  \u001B[38;5;66;03m# The islice is empty, i.e. we're done.\u001B[39;00m\n\u001B[0;32m   1165\u001B[0m     \u001B[38;5;28;01mbreak\u001B[39;00m\n",
      "File \u001B[1;32m/opt/miniconda3/envs/cs534/lib/python3.8/site-packages/numpy/lib/npyio.py:1142\u001B[0m, in \u001B[0;36mloadtxt.<locals>.convert_row\u001B[1;34m(vals, _conv)\u001B[0m\n\u001B[0;32m   1141\u001B[0m \u001B[38;5;28;01mdef\u001B[39;00m \u001B[38;5;21mconvert_row\u001B[39m(vals, _conv\u001B[38;5;241m=\u001B[39mconverters[\u001B[38;5;241m0\u001B[39m]):\n\u001B[1;32m-> 1142\u001B[0m     \u001B[38;5;28;01mreturn\u001B[39;00m [\u001B[38;5;241m*\u001B[39m\u001B[38;5;28mmap\u001B[39m(_conv, vals)]\n",
      "File \u001B[1;32m/opt/miniconda3/envs/cs534/lib/python3.8/site-packages/numpy/lib/npyio.py:725\u001B[0m, in \u001B[0;36m_floatconv\u001B[1;34m(x)\u001B[0m\n\u001B[0;32m    723\u001B[0m \u001B[38;5;28;01mdef\u001B[39;00m \u001B[38;5;21m_floatconv\u001B[39m(x):\n\u001B[0;32m    724\u001B[0m     \u001B[38;5;28;01mtry\u001B[39;00m:\n\u001B[1;32m--> 725\u001B[0m         \u001B[38;5;28;01mreturn\u001B[39;00m \u001B[38;5;28;43mfloat\u001B[39;49m\u001B[43m(\u001B[49m\u001B[43mx\u001B[49m\u001B[43m)\u001B[49m  \u001B[38;5;66;03m# The fastest path.\u001B[39;00m\n\u001B[0;32m    726\u001B[0m     \u001B[38;5;28;01mexcept\u001B[39;00m \u001B[38;5;167;01mValueError\u001B[39;00m:\n\u001B[0;32m    727\u001B[0m         \u001B[38;5;28;01mif\u001B[39;00m \u001B[38;5;124m'\u001B[39m\u001B[38;5;124m0x\u001B[39m\u001B[38;5;124m'\u001B[39m \u001B[38;5;129;01min\u001B[39;00m x:  \u001B[38;5;66;03m# Don't accidentally convert \"a\" (\"0xa\") to 10.\u001B[39;00m\n",
      "\u001B[1;31mKeyboardInterrupt\u001B[0m: "
     ]
    }
   ],
   "source": [
    "from lightgbm import LGBMClassifier\n",
    "\n",
    "# Ceftriaxone\n",
    "trainer.fit(\n",
    "    drug='Ceftriaxone',\n",
    "    model=LGBMClassifier(\n",
    "        boosting_type='gbdt',\n",
    "        learning_rate=0.05,\n",
    "        n_estimators=10,\n",
    "    )\n",
    ")\n",
    "# Ciprofloxacin\n",
    "trainer.fit(\n",
    "    drug='Ciprofloxacin',\n",
    "    model=LGBMClassifier(\n",
    "        boosting_type='gbdt',\n",
    "        learning_rate=0.02,\n",
    "        n_estimators=15,\n",
    "    )\n",
    ")\n",
    "# Cefepime\n",
    "trainer.fit(\n",
    "    drug='Cefepime',\n",
    "    model=LGBMClassifier(\n",
    "        boosting_type='gbdt',\n",
    "        learning_rate=0.01,\n",
    "        n_estimators=20,\n",
    "    )\n",
    ")"
   ],
   "metadata": {
    "collapsed": false,
    "pycharm": {
     "name": "#%%\n"
    }
   }
  },
  {
   "cell_type": "markdown",
   "source": [
    "## Results Collection"
   ],
   "metadata": {
    "collapsed": false,
    "pycharm": {
     "name": "#%% md\n"
    }
   }
  },
  {
   "cell_type": "code",
   "execution_count": null,
   "outputs": [],
   "source": [
    "results = trainer.collect_results()\n",
    "# export the results to csv files\n",
    "# results.save_to('./results/test')"
   ],
   "metadata": {
    "collapsed": false,
    "pycharm": {
     "name": "#%%\n"
    }
   }
  },
  {
   "cell_type": "markdown",
   "source": [
    "## Bar Graph"
   ],
   "metadata": {
    "collapsed": false,
    "pycharm": {
     "name": "#%% md\n"
    }
   }
  },
  {
   "cell_type": "code",
   "execution_count": null,
   "outputs": [
    {
     "data": {
      "text/plain": "<Figure size 864x864 with 3 Axes>",
      "image/png": "[encoded data removed]"
     },
     "metadata": {
      "needs_background": "light"
     },
     "output_type": "display_data"
    }
   ],
   "source": [
    "results.bar_plot(\n",
    "    title='Bar Graph Test',\n",
    "    # save_as='./results/test/bar.png',\n",
    "    # drugs=['Ceftriaxone', 'Ciprofloxacin', 'Cefepime'],\n",
    "    # metrics=['AUROC', 'Accuracy', 'F1 Score'],\n",
    "    nrows=2,\n",
    "    ncols=2,\n",
    "    sharey=True,\n",
    "    figsize=(12, 12),\n",
    "    y_lim=(0, 1),\n",
    ")"
   ],
   "metadata": {
    "collapsed": false,
    "pycharm": {
     "name": "#%%\n"
    }
   }
  },
  {
   "cell_type": "markdown",
   "source": [
    "## Box Graph"
   ],
   "metadata": {
    "collapsed": false,
    "pycharm": {
     "name": "#%% md\n"
    }
   }
  },
  {
   "cell_type": "code",
   "execution_count": 10,
   "outputs": [
    {
     "data": {
      "text/plain": "<Figure size 432x432 with 1 Axes>",
      "image/png": "[encoded data removed]"
     },
     "metadata": {
      "needs_background": "light"
     },
     "output_type": "display_data"
    }
   ],
   "source": [
    "results.box_plot(\n",
    "    # title='Box Graph Test',\n",
    "    # save_as='./plots/box_test.png',\n",
    "    subtitle_template='5-Fold {} Scores', # format subtitles (`{}` will be replaced with metrics' name)\n",
    "    # drugs=['Ceftriaxone', 'Ciprofloxacin', 'Cefepime'],\n",
    "    metrics=['AUROC'], # plot AUROC only\n",
    "    y_lim=[0.4, 0.8], # set view limits for y-axis\n",
    "    figsize=(6, 6),\n",
    ")"
   ],
   "metadata": {
    "collapsed": false,
    "pycharm": {
     "name": "#%%\n"
    }
   }
  },
  {
   "cell_type": "code",
   "execution_count": null,
   "outputs": [],
   "source": [],
   "metadata": {
    "collapsed": false,
    "pycharm": {
     "name": "#%%\n"
    }
   }
  }
 ],
 "metadata": {
  "kernelspec": {
   "display_name": "Python 3",
   "language": "python",
   "name": "python3"
  },
  "language_info": {
   "codemirror_mode": {
    "name": "ipython",
    "version": 2
   },
   "file_extension": ".py",
   "mimetype": "text/x-python",
   "name": "python",
   "nbconvert_exporter": "python",
   "pygments_lexer": "ipython2",
   "version": "2.7.6"
  }
 },
 "nbformat": 4,
 "nbformat_minor": 0
}