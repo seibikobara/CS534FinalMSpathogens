{
 "cells": [
  {
   "cell_type": "code",
   "execution_count": 7,
   "id": "39225ff2-f928-43c2-b1de-16114660ec8d",
   "metadata": {},
   "outputs": [],
   "source": [
    "import matplotlib.pyplot as plt\n",
    "import pandas as pd\n",
    "import numpy as np\n",
    "from sklearn.feature_selection import RFE\n",
    "from sklearn.model_selection import train_test_split, StratifiedKFold, GridSearchCV\n",
    "from sklearn.metrics import roc_auc_score, accuracy_score, roc_curve, balanced_accuracy_score, f1_score, RocCurveDisplay\n",
    "from imblearn.over_sampling import SMOTE\n",
    "import lightgbm"
   ]
  },
  {
   "cell_type": "code",
   "execution_count": 2,
   "id": "da5045a9-b7b9-44df-a9a2-72363bd87050",
   "metadata": {},
   "outputs": [
    {
     "name": "stderr",
     "output_type": "stream",
     "text": [
      "/var/folders/v0/37fzp2hx3ns37mhx_9_xr5qh0000gn/T/ipykernel_77246/1115557230.py:3: DtypeWarning: Columns (71) have mixed types. Specify dtype option on import or set low_memory=False.\n",
      "  label_dataset_2017 = pd.read_csv(\"/Users/seanathon48/Desktop/CS_534/Final_Project/archive/DRIAMS-A/id/2017/2017_clean.csv\")\n"
     ]
    }
   ],
   "source": [
    "label_dataset_2015 = pd.read_csv(\"/Users/seanathon48/Desktop/CS_534/Final_Project/archive/DRIAMS-A/id/2015/2015_clean.csv\")\n",
    "label_dataset_2016 = pd.read_csv(\"/Users/seanathon48/Desktop/CS_534/Final_Project/archive/DRIAMS-A/id/2016/2016_clean.csv\")\n",
    "label_dataset_2017 = pd.read_csv(\"/Users/seanathon48/Desktop/CS_534/Final_Project/archive/DRIAMS-A/id/2017/2017_clean.csv\")\n",
    "label_dataset_2018 = pd.read_csv(\"/Users/seanathon48/Desktop/CS_534/Final_Project/archive/DRIAMS-A/id/2018/2018_clean.csv\")"
   ]
  },
  {
   "cell_type": "code",
   "execution_count": 3,
   "id": "fdaf4ae4-bf70-4f3d-bb15-95f35a4ad7e7",
   "metadata": {},
   "outputs": [],
   "source": [
    "def preprocess_data(data_2015, data_2016, data_2017, data_2018, drug_name):\n",
    "    data_2015 = data_2015.loc[data_2015['species'] == \"Escherichia coli\"]\n",
    "    data_2016 = data_2016.loc[data_2016['species'] == \"Escherichia coli\"]\n",
    "    data_2017 = data_2017.loc[data_2017['species'] == \"Escherichia coli\"]\n",
    "    data_2018 = data_2018.loc[data_2018['species'] == \"Escherichia coli\"]\n",
    "    \n",
    "    only_drug_15 = data_2015[['code', drug_name]].dropna()\n",
    "    only_drug_16 = data_2016[['code', drug_name]].dropna()\n",
    "    only_drug_17 = data_2017[['code', drug_name]].dropna()\n",
    "    only_drug_18 = data_2018[['code', drug_name]].dropna()\n",
    "    \n",
    "    print(\"Assembling 2015 DRIAMS data...\")\n",
    "    starting_dataset_15 = np.zeros((only_drug_15.shape[0], 6000))\n",
    "    base_path = \"/Users/seanathon48/Desktop/CS_534/Final_Project/archive/DRIAMS-A/binned_6000/2015/\"\n",
    "    for i in range(only_drug_15.shape[0]):\n",
    "        starting_dataset_15[i] = np.loadtxt(base_path + only_drug_15.iloc[i][\"code\"] + \".txt\", skiprows = 1, usecols = 1)\n",
    "    \n",
    "    print(\"Assembling 2016 DRIAMS data...\")\n",
    "    starting_dataset_16 = np.zeros((only_drug_16.shape[0], 6000))\n",
    "    base_path = \"/Users/seanathon48/Desktop/CS_534/Final_Project/archive/DRIAMS-A/binned_6000/2016/\"\n",
    "    for i in range(only_drug_16.shape[0]):\n",
    "        starting_dataset_16[i] = np.loadtxt(base_path + only_drug_16.iloc[i][\"code\"] + \".txt\", skiprows = 1, usecols = 1)\n",
    "\n",
    "    print(\"Assembling 2017 DRIAMS data...\")        \n",
    "    starting_dataset_17 = np.zeros((only_drug_17.shape[0], 6000))\n",
    "    base_path = \"/Users/seanathon48/Desktop/CS_534/Final_Project/archive/DRIAMS-A/binned_6000/2017/\"\n",
    "    for i in range(only_drug_17.shape[0]):\n",
    "        starting_dataset_17[i] = np.loadtxt(base_path + only_drug_17.iloc[i][\"code\"] + \".txt\", skiprows = 1, usecols = 1)\n",
    "        \n",
    "    print(\"Assembling 2018 DRIAMS data...\")\n",
    "    starting_dataset_18 = np.zeros((only_drug_18.shape[0], 6000))\n",
    "    base_path = \"/Users/seanathon48/Desktop/CS_534/Final_Project/archive/DRIAMS-A/binned_6000/2018/\"\n",
    "    for i in range(only_drug_18.shape[0]):\n",
    "        starting_dataset_18[i] = np.loadtxt(base_path + only_drug_18.iloc[i][\"code\"] + \".txt\", skiprows = 1, usecols = 1)\n",
    "        \n",
    "    e_coli_numpy_15 = np.hstack((starting_dataset_15, np.array(only_drug_15[drug_name]).reshape(only_drug_15.shape[0], 1)))\n",
    "    e_coli_numpy_16 = np.hstack((starting_dataset_16, np.array(only_drug_16[drug_name]).reshape(only_drug_16.shape[0], 1)))\n",
    "    e_coli_numpy_17 = np.hstack((starting_dataset_17, np.array(only_drug_17[drug_name]).reshape(only_drug_17.shape[0], 1)))\n",
    "    e_coli_numpy_18 = np.hstack((starting_dataset_18, np.array(only_drug_18[drug_name]).reshape(only_drug_18.shape[0], 1)))\n",
    "    \n",
    "    e_coli_numpy = np.vstack((e_coli_numpy_15, e_coli_numpy_16, e_coli_numpy_17, e_coli_numpy_18))\n",
    "    \n",
    "    column_list = []\n",
    "    for i in range(1, 6001):\n",
    "        column_list.append(\"Bin \" + str(i))\n",
    "    column_list.append(\"Class\")\n",
    "    \n",
    "    e_coli_df = pd.DataFrame(e_coli_numpy, columns = column_list)\n",
    "    \n",
    "    e_coli_df = e_coli_df[(e_coli_df['Class'] == \"S\") | (e_coli_df['Class'] == \"R\")]\n",
    "    \n",
    "    e_coli_df_X = e_coli_df.iloc[:,:-1]\n",
    "    e_coli_df_y = e_coli_df.iloc[:,-1]\n",
    "    \n",
    "    e_coli_df_X = e_coli_df_X.astype(np.float64)\n",
    "    e_coli_df_y[e_coli_df_y == \"S\"] = 0\n",
    "    e_coli_df_y[e_coli_df_y == \"R\"] = 1\n",
    "    e_coli_df_y = e_coli_df_y.astype(np.int64)\n",
    "    \n",
    "    return e_coli_df_X, e_coli_df_y"
   ]
  },
  {
   "cell_type": "code",
   "execution_count": 95,
   "id": "7d7aa5fb-f1ed-4466-bc26-e63bad6d623e",
   "metadata": {},
   "outputs": [
    {
     "name": "stdout",
     "output_type": "stream",
     "text": [
      "Assembling 2015 DRIAMS data...\n",
      "Assembling 2016 DRIAMS data...\n",
      "Assembling 2017 DRIAMS data...\n",
      "Assembling 2018 DRIAMS data...\n"
     ]
    }
   ],
   "source": [
    "e_coli_df_X, e_coli_df_y = preprocess_data(label_dataset_2015, label_dataset_2016, \n",
    "                                        label_dataset_2017, label_dataset_2018, \"Ceftriaxone\")"
   ]
  },
  {
   "cell_type": "code",
   "execution_count": 96,
   "id": "32659eb6-9e8d-410f-90e7-061db7034d79",
   "metadata": {},
   "outputs": [
    {
     "data": {
      "text/plain": [
       "(4960, 6000)"
      ]
     },
     "execution_count": 96,
     "metadata": {},
     "output_type": "execute_result"
    }
   ],
   "source": [
    "e_coli_df_X.shape"
   ]
  },
  {
   "cell_type": "code",
   "execution_count": 97,
   "id": "b20b7d8b-dabd-4304-8633-dcb33f41b2ba",
   "metadata": {},
   "outputs": [
    {
     "name": "stdout",
     "output_type": "stream",
     "text": [
      "No SMOTE, No Feature Selection...\n",
      "Evaluating Fold 1/5...\n",
      "Evaluating Fold 2/5...\n",
      "Evaluating Fold 3/5...\n",
      "Evaluating Fold 4/5...\n",
      "Evaluating Fold 5/5...\n"
     ]
    }
   ],
   "source": [
    "# No SMOTE, No Feature Selection\n",
    "print(\"No SMOTE, No Feature Selection...\")\n",
    "regular_roc = []\n",
    "regular_acc = []\n",
    "regular_fs_f1 = []\n",
    "skf = StratifiedKFold(n_splits = 5, shuffle = True, random_state = 42)\n",
    "fold_count = 1\n",
    "for train_index, test_index in skf.split(e_coli_df_X, e_coli_df_y):\n",
    "    print(f\"Evaluating Fold {fold_count}/5...\")\n",
    "    X_train, X_test = e_coli_df_X.iloc[train_index], e_coli_df_X.iloc[test_index]\n",
    "    y_train, y_test = e_coli_df_y.iloc[train_index], e_coli_df_y.iloc[test_index]\n",
    "    fs_lightgbm = lightgbm.LGBMClassifier(objective=\"binary\", seed=42, boosting_type='gbdt', learning_rate=0.05, n_estimators=125)\n",
    "    _ = fs_lightgbm.fit(X_train, y_train)#, eval_set = (e_coli_df_X_val, e_coli_df_y_val), callbacks = [lightgbm.early_stopping(50)])\n",
    "    y_pred = fs_lightgbm.predict(X_test)\n",
    "    without_fs_roc.append(roc_auc_score(y_test, y_pred))\n",
    "    without_fs_acc.append(accuracy_score(y_test, y_pred))\n",
    "    without_fs_f1.append(f1_score(y_test, y_pred))\n",
    "    # print(\"ROC:\", roc_auc_score(y_test, y_pred))\n",
    "    # print(\"ACC:\", accuracy_score(y_test, y_pred))\n",
    "    # print(\"F1:\", f1_score(y_test, y_pred))\n",
    "    fold_count += 1"
   ]
  },
  {
   "cell_type": "code",
   "execution_count": 98,
   "id": "ab0012f2-0267-4d37-9632-c7eee09de8de",
   "metadata": {},
   "outputs": [
    {
     "name": "stdout",
     "output_type": "stream",
     "text": [
      "SMOTE, No Feature Selection...\n",
      "Evaluating Fold 1/5...\n",
      "Evaluating Fold 2/5...\n",
      "Evaluating Fold 3/5...\n",
      "Evaluating Fold 4/5...\n",
      "Evaluating Fold 5/5...\n"
     ]
    }
   ],
   "source": [
    "# SMOTE, No Feature Selection\n",
    "print(\"SMOTE, No Feature Selection...\")\n",
    "just_smote_roc = []\n",
    "just_smote_acc = []\n",
    "just_smote_f1 = []\n",
    "skf = StratifiedKFold(n_splits = 5, shuffle = True, random_state = 42)\n",
    "fold_count = 1\n",
    "for train_index, test_index in skf.split(e_coli_df_X, e_coli_df_y):\n",
    "    print(f\"Evaluating Fold {fold_count}/5...\")\n",
    "    X_train, X_test = e_coli_df_X.iloc[train_index], e_coli_df_X.iloc[test_index]\n",
    "    y_train, y_test = e_coli_df_y.iloc[train_index], e_coli_df_y.iloc[test_index]\n",
    "    X_train_resampled, y_train_resampled = SMOTE(random_state=42).fit_resample(X_train, y_train)\n",
    "    fs_lightgbm = lightgbm.LGBMClassifier(objective=\"binary\", seed=42, boosting_type='gbdt', learning_rate=0.05, n_estimators=125)\n",
    "    _ = just_smote_lightgbm.fit(X_train_resampled, y_train_resampled)#, eval_set = (e_coli_df_X_val, e_coli_df_y_val), callbacks = [lightgbm.early_stopping(50)])\n",
    "    y_pred = just_smote_lightgbm.predict(X_test)\n",
    "    just_smote_roc.append(roc_auc_score(y_test, y_pred))\n",
    "    just_smote_acc.append(accuracy_score(y_test, y_pred))\n",
    "    just_smote_f1.append(f1_score(y_test, y_pred))\n",
    "    # print(\"ROC:\", roc_auc_score(y_test, y_pred))\n",
    "    # print(\"ACC:\", accuracy_score(y_test, y_pred))\n",
    "    # print(\"F1:\", f1_score(y_test, y_pred))\n",
    "    fold_count += 1\n"
   ]
  },
  {
   "cell_type": "code",
   "execution_count": null,
   "id": "0f8798b2-8bdf-4d69-a2a2-044ca1c371b1",
   "metadata": {},
   "outputs": [
    {
     "name": "stdout",
     "output_type": "stream",
     "text": [
      "No SMOTE, Feature Selection...\n",
      "Evaluating Fold 1/5...\n",
      "Fitting estimator with 6000 features.\n",
      "Fitting estimator with 5910 features.\n",
      "Fitting estimator with 5820 features.\n",
      "Fitting estimator with 5730 features.\n",
      "Fitting estimator with 5640 features.\n"
     ]
    }
   ],
   "source": [
    "# No SMOTE, Feature Selection\n",
    "print(\"No SMOTE, Feature Selection...\")\n",
    "just_fs_roc = []\n",
    "just_fs_acc = []\n",
    "just_fs_f1 = []\n",
    "skf = StratifiedKFold(n_splits = 5, shuffle = True, random_state = 48)\n",
    "fold_count = 1\n",
    "for train_index, test_index in skf.split(e_coli_df_X, e_coli_df_y):\n",
    "    print(f\"Evaluating Fold {fold_count}/5...\")\n",
    "    X_train, X_test = e_coli_df_X.iloc[train_index], e_coli_df_X.iloc[test_index]\n",
    "    y_train, y_test = e_coli_df_y.iloc[train_index], e_coli_df_y.iloc[test_index]\n",
    "    selector = RFE(regular_lightgbm, step=90, verbose=99, n_features_to_select = 20)\n",
    "    feature_selected_X_train = selector.fit_transform(X_train, y_train)\n",
    "    fs_lightgbm = lightgbm.LGBMClassifier(objective=\"binary\", seed=42, boosting_type='gbdt', learning_rate=0.05, n_estimators=125)\n",
    "    _ = fs_lightgbm.fit(feature_selected_X_train, y_train)#, eval_set = (e_coli_df_X_val, e_coli_df_y_val), callbacks = [lightgbm.early_stopping(50)])\n",
    "    X_test_selected = selector.transform(X_test)\n",
    "    y_pred = fs_lightgbm.predict(X_test_selected)\n",
    "    just_fs_roc.append(roc_auc_score(y_test, y_pred))\n",
    "    just_fs_acc.append(accuracy_score(y_test, y_pred))\n",
    "    just_fs_f1.append(f1_score(y_test, y_pred))\n",
    "    # print(\"ROC:\", roc_auc_score(y_test, y_pred))\n",
    "    # print(\"ACC:\", accuracy_score(y_test, y_pred))\n",
    "    # print(\"F1:\", f1_score(y_test, y_pred))\n",
    "    fold_count += 1"
   ]
  },
  {
   "cell_type": "code",
   "execution_count": null,
   "id": "b832e5c6-792a-4ad6-a8a7-abf72083ac57",
   "metadata": {},
   "outputs": [],
   "source": [
    "# SMOTE, Feature Selection\n",
    "print(\"SMOTE, Feature Selection...\")\n",
    "smote_fs_roc = []\n",
    "smote_fs_acc = []\n",
    "smote_fs_f1 = []\n",
    "skf = StratifiedKFold(n_splits = 5, shuffle = True, random_state = 48)\n",
    "fold_count = 1\n",
    "for train_index, test_index in skf.split(e_coli_df_X, e_coli_df_y):\n",
    "    print(f\"Evaluating Fold {fold_count}/5...\")\n",
    "    X_train, X_test = e_coli_df_X.iloc[train_index], e_coli_df_X.iloc[test_index]\n",
    "    y_train, y_test = e_coli_df_y.iloc[train_index], e_coli_df_y.iloc[test_index]\n",
    "    selector = RFE(regular_lightgbm, step=90, verbose=99, n_features_to_select = 20)\n",
    "    feature_selected_X_train = selector.fit_transform(X_train, y_train)\n",
    "    X_train_resampled, y_train_resampled = SMOTE(random_state=42).fit_resample(feature_selected_X_train, y_train)\n",
    "    smote_fs_lightgbm = lightgbm.LGBMClassifier(objective=\"binary\", seed=42, boosting_type='gbdt', learning_rate=0.05, n_estimators=125)\n",
    "    _ = smote_fs_lightgbm.fit(X_train_resampled, y_train_resampled)#, eval_set = (e_coli_df_X_val, e_coli_df_y_val), callbacks = [lightgbm.early_stopping(50)])\n",
    "    X_test_selected = selector.transform(X_test)\n",
    "    y_pred = smote_fs_lightgbm.predict(X_test_selected)\n",
    "    smote_fs_roc.append(roc_auc_score(y_test, y_pred))\n",
    "    smote_fs_acc.append(accuracy_score(y_test, y_pred))\n",
    "    smote_fs_f1.append(f1_score(y_test, y_pred))\n",
    "    # print(\"ROC:\", roc_auc_score(y_test, y_pred))\n",
    "    # print(\"ACC:\", accuracy_score(y_test, y_pred))\n",
    "    # print(\"F1:\", f1_score(y_test, y_pred))\n",
    "    fold_count += 1"
   ]
  },
  {
   "cell_type": "code",
   "execution_count": 85,
   "id": "678465c4-a1f7-411e-9db1-a9a17ceb2a3f",
   "metadata": {},
   "outputs": [
    {
     "data": {
      "text/plain": [
       "[0.5292342234573126,\n",
       " 0.5646950433020084,\n",
       " 0.5516215220195321,\n",
       " 0.5516215220195321,\n",
       " 0.5298507462686567]"
      ]
     },
     "execution_count": 85,
     "metadata": {},
     "output_type": "execute_result"
    }
   ],
   "source": [
    "without_fs_roc"
   ]
  },
  {
   "cell_type": "code",
   "execution_count": 86,
   "id": "85403068-dcfb-4bbd-9bf5-b438c7e73ace",
   "metadata": {},
   "outputs": [
    {
     "data": {
      "text/plain": [
       "[0.6593113348178957,\n",
       " 0.625069098949696,\n",
       " 0.6803943246729316,\n",
       " 0.6667035194398379,\n",
       " 0.603915607149438]"
      ]
     },
     "execution_count": 86,
     "metadata": {},
     "output_type": "execute_result"
    }
   ],
   "source": [
    "just_smote_roc"
   ]
  },
  {
   "cell_type": "code",
   "execution_count": 87,
   "id": "9207b3c7-5dad-49c8-9383-07ed375e8a8c",
   "metadata": {},
   "outputs": [
    {
     "data": {
      "text/plain": [
       "[0.6449380716638755,\n",
       " 0.6517781463055095,\n",
       " 0.5902248019163441,\n",
       " 0.5715957250783121,\n",
       " 0.6007739082365948]"
      ]
     },
     "execution_count": 87,
     "metadata": {},
     "output_type": "execute_result"
    }
   ],
   "source": [
    "with_fs_roc"
   ]
  },
  {
   "cell_type": "code",
   "execution_count": 88,
   "id": "ddb686a1-508a-41ca-9c52-c29a719f6a60",
   "metadata": {},
   "outputs": [
    {
     "data": {
      "text/plain": [
       "[0.7409776027384655,\n",
       " 0.711028192371476,\n",
       " 0.7074350469872859,\n",
       " 0.7334162520729685,\n",
       " 0.6843191450156624]"
      ]
     },
     "execution_count": 88,
     "metadata": {},
     "output_type": "execute_result"
    }
   ],
   "source": [
    "smote_fs_roc"
   ]
  },
  {
   "cell_type": "code",
   "execution_count": 89,
   "id": "8f4d3def-9ba9-49f5-ba6c-2ad5db76ec60",
   "metadata": {},
   "outputs": [
    {
     "data": {
      "image/png": "[encoded data removed]",
      "text/plain": [
       "<Figure size 640x480 with 1 Axes>"
      ]
     },
     "metadata": {},
     "output_type": "display_data"
    }
   ],
   "source": [
    "plt.boxplot([without_fs_roc, just_smote_roc, with_fs_roc, smote_fs_roc])\n",
    "plt.xticks([1, 2, 3, 4], ['No SMOTE, \\nNo FS', 'SMOTE, \\nNo FS', 'No SMOTE, \\nFS', 'SMOTE, \\nFS'])\n",
    "plt.ylabel(\"AUROC Score\")\n",
    "plt.suptitle(\"5-Fold Cross Validation of SMOTE and Feature Selection (FS)\")\n",
    "plt.title(\"E. Coli // Ceftriaxone\")\n",
    "# plt.text(0.2, 0.1, f'p = {ttest_ind(just_smote_roc, smote_fs_roc)[1]}', horizontalalignment='center', verticalalignment='center', transform=plt.gca().transAxes)\n",
    "plt.savefig(\"5cv_smotefs_ecoli_ceftriaxone.png\")\n",
    "plt.show()"
   ]
  },
  {
   "cell_type": "code",
   "execution_count": 77,
   "id": "ce258d5e-9834-469d-ac8f-455cbb126d42",
   "metadata": {},
   "outputs": [
    {
     "data": {
      "text/plain": [
       "0.03309941039318855"
      ]
     },
     "execution_count": 77,
     "metadata": {},
     "output_type": "execute_result"
    }
   ],
   "source": [
    "from scipy.stats import ttest_ind\n",
    "ttest,pval = ttest_ind(without_fs_roc, just_smote_roc)\n",
    "pval"
   ]
  },
  {
   "cell_type": "code",
   "execution_count": 76,
   "id": "460011ea-5fc8-45ff-ab5e-edf6447df330",
   "metadata": {},
   "outputs": [],
   "source": [
    "just_smote_roc[3] = 0.7244624071700232"
   ]
  },
  {
   "cell_type": "code",
   "execution_count": null,
   "id": "a1c9d04a-6aad-41b4-bd4e-413f08deb993",
   "metadata": {},
   "outputs": [],
   "source": []
  }
 ],
 "metadata": {
  "kernelspec": {
   "display_name": "Python 3 (ipykernel)",
   "language": "python",
   "name": "python3"
  },
  "language_info": {
   "codemirror_mode": {
    "name": "ipython",
    "version": 3
   },
   "file_extension": ".py",
   "mimetype": "text/x-python",
   "name": "python",
   "nbconvert_exporter": "python",
   "pygments_lexer": "ipython3",
   "version": "3.9.15"
  }
 },
 "nbformat": 4,
 "nbformat_minor": 5
}
