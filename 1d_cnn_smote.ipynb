{
 "cells": [
  {
   "cell_type": "markdown",
   "source": [
    "# 1D CNNs with SMOTE"
   ],
   "metadata": {
    "collapsed": false,
    "pycharm": {
     "name": "#%% md\n"
    }
   }
  },
  {
   "cell_type": "code",
   "execution_count": 1,
   "metadata": {
    "collapsed": true,
    "pycharm": {
     "name": "#%%\n"
    }
   },
   "outputs": [],
   "source": [
    "# enable auto-reloading submodules\n",
    "%reload_ext autoreload\n",
    "%autoreload 2\n",
    "\n",
    "# hidpi plots for retina displays\n",
    "%config InlineBackend.figure_format = 'retina'\n",
    "\n",
    "import math\n",
    "from trainer import Trainer\n",
    "from keras.models import Sequential\n",
    "from keras.layers import Conv1D, MaxPooling1D, Dense, Activation, Flatten\n",
    "from keras.callbacks import EarlyStopping"
   ]
  },
  {
   "cell_type": "markdown",
   "source": [
    "## Shared Parameters"
   ],
   "metadata": {
    "collapsed": false,
    "pycharm": {
     "name": "#%% md\n"
    }
   }
  },
  {
   "cell_type": "code",
   "execution_count": 2,
   "outputs": [],
   "source": [
    "# DRIAMS sites and years\n",
    "sites = ['A']\n",
    "years = [2015, 2016, 2017, 2018]\n",
    "# list of callbacks to apply during training\n",
    "cnn_callbacks = [\n",
    "    # EarlyStopping(monitor='binary_accuracy', patience=20, verbose=0),\n",
    "]"
   ],
   "metadata": {
    "collapsed": false,
    "pycharm": {
     "name": "#%%\n"
    }
   }
  },
  {
   "cell_type": "markdown",
   "source": [
    "## 1D CNN Model"
   ],
   "metadata": {
    "collapsed": false,
    "pycharm": {
     "name": "#%% md\n"
    }
   }
  },
  {
   "cell_type": "code",
   "execution_count": 3,
   "outputs": [],
   "source": [
    "def build_cnn_1d(X, _y):\n",
    "    kernel_size = math.ceil(X.shape[1] / 100) # should be 60\n",
    "    # 1D CNN model based on <https://github.com/chenlabgccri/CancerTypePrediction/blob/master/5cv_34class/5cv_1D_CNN_34class.py>\n",
    "    model = Sequential()\n",
    "    ## *********** First layer Conv\n",
    "    model.add(Conv1D(\n",
    "        filters=32,\n",
    "        kernel_size=kernel_size,\n",
    "        strides=kernel_size, # stride == kernel length\n",
    "        input_shape=(X.shape[1], 1), # should be (6000, 1)\n",
    "    ))\n",
    "    model.add(Activation('relu'))\n",
    "    model.add(MaxPooling1D(2, padding='same'))\n",
    "    ## ********* Classification layer\n",
    "    model.add(Flatten())\n",
    "    model.add(Dense(128, activation='relu'))\n",
    "    model.add(Dense(64, activation='relu'))\n",
    "    model.add(Dense(1, activation='sigmoid'))\n",
    "    model.compile(\n",
    "        loss='binary_crossentropy',\n",
    "        optimizer='adam',\n",
    "        metrics=['binary_accuracy'],\n",
    "    )\n",
    "\n",
    "    return model"
   ],
   "metadata": {
    "collapsed": false,
    "pycharm": {
     "name": "#%%\n"
    }
   }
  },
  {
   "cell_type": "markdown",
   "source": [
    "## E. Coli"
   ],
   "metadata": {
    "collapsed": false,
    "pycharm": {
     "name": "#%% md\n"
    }
   }
  },
  {
   "cell_type": "code",
   "execution_count": null,
   "outputs": [
    {
     "name": "stdout",
     "output_type": "stream",
     "text": [
      "Loading Ceftriaxone...\n",
      "Training w/o SMOTE...\n",
      "Fold 1/5...\n"
     ]
    },
    {
     "name": "stderr",
     "output_type": "stream",
     "text": [
      "2022-12-10 15:06:13.577718: I tensorflow/core/platform/cpu_feature_guard.cc:193] This TensorFlow binary is optimized with oneAPI Deep Neural Network Library (oneDNN) to use the following CPU instructions in performance-critical operations:  SSE4.1 SSE4.2 AVX AVX2 AVX512F AVX512_VNNI FMA\n",
      "To enable them in other operations, rebuild TensorFlow with the appropriate compiler flags.\n"
     ]
    },
    {
     "name": "stdout",
     "output_type": "stream",
     "text": [
      "31/31 [==============================] - 0s 3ms/step\n",
      "AUC=0.7501382488479263, ACC=0.873991935483871, f1=0.647887323943662\n",
      "Fold 2/5...\n",
      "31/31 [==============================] - 0s 4ms/step\n",
      "AUC=0.7316129032258065, ACC=0.8709677419354839, f1=0.6213017751479291\n",
      "Fold 3/5...\n",
      "31/31 [==============================] - 0s 3ms/step\n",
      "AUC=0.7236866359447005, ACC=0.8689516129032258, f1=0.6084337349397592\n",
      "Fold 4/5...\n",
      "31/31 [==============================] - 0s 3ms/step\n",
      "AUC=0.7744700460829494, ACC=0.8679435483870968, f1=0.6683544303797468\n",
      "Fold 5/5...\n",
      "31/31 [==============================] - 0s 2ms/step\n",
      "AUC=0.7785253456221198, ACC=0.8639112903225806, f1=0.6683046683046683\n",
      "Training w/ SMOTE...\n",
      "Fold 1/5...\n",
      "31/31 [==============================] - 0s 2ms/step\n",
      "AUC=0.763778801843318, ACC=0.8175403225806451, f1=0.6157112526539278\n",
      "Fold 2/5...\n",
      "31/31 [==============================] - 0s 2ms/step\n",
      "AUC=0.7602764976958526, ACC=0.8639112903225806, f1=0.6493506493506492\n",
      "Fold 3/5...\n",
      "31/31 [==============================] - 0s 3ms/step\n",
      "AUC=0.7785253456221197, ACC=0.8820564516129032, f1=0.6880000000000001\n",
      "Fold 4/5...\n",
      "31/31 [==============================] - 0s 2ms/step\n",
      "AUC=0.7741013824884794, ACC=0.8699596774193549, f1=0.6700767263427111\n",
      "Fold 5/5...\n",
      "31/31 [==============================] - 0s 2ms/step\n",
      "AUC=0.7951152073732719, ACC=0.8820564516129032, f1=0.7037974683544304\n",
      "Loading Ciprofloxacin...\n",
      "Training w/o SMOTE...\n",
      "Fold 1/5...\n",
      "31/31 [==============================] - 0s 3ms/step\n",
      "AUC=0.6677107797862515, ACC=0.7811203319502075, f1=0.5127020785219399\n",
      "Fold 2/5...\n",
      "31/31 [==============================] - 0s 2ms/step\n",
      "AUC=0.6693001599694892, ACC=0.7642782969885774, f1=0.5200845665961945\n",
      "Fold 3/5...\n",
      "31/31 [==============================] - 0s 2ms/step\n",
      "AUC=0.6453444641022109, ACC=0.7850467289719626, f1=0.4595300261096606\n",
      "Fold 4/5...\n",
      "31/31 [==============================] - 0s 2ms/step\n",
      "AUC=0.6919024715815791, ACC=0.7808930425752856, f1=0.5576519916142557\n",
      "Fold 5/5...\n",
      "31/31 [==============================] - 0s 2ms/step\n",
      "AUC=0.6501991673111354, ACC=0.7715472481827622, f1=0.4786729857819905\n",
      "Training w/ SMOTE...\n",
      "Fold 1/5...\n",
      "31/31 [==============================] - 0s 2ms/step\n",
      "AUC=0.6741680960548886, ACC=0.6763485477178424, f1=0.5411764705882354\n",
      "Fold 2/5...\n",
      "31/31 [==============================] - 0s 2ms/step\n",
      "AUC=0.7018370006250463, ACC=0.77466251298027, f1=0.5736738703339883\n",
      "Fold 3/5...\n",
      "31/31 [==============================] - 0s 2ms/step\n",
      "AUC=0.7242989416588095, ACC=0.7580477673935618, f1=0.6030664395229984\n",
      "Fold 4/5...\n",
      "31/31 [==============================] - 0s 3ms/step\n",
      "AUC=0.7095812189463202, ACC=0.7133956386292835, f1=0.5818181818181818\n",
      "Fold 5/5...\n",
      "31/31 [==============================] - 0s 2ms/step\n",
      "AUC=0.7094752788872056, ACC=0.7289719626168224, f1=0.5824\n",
      "Loading Cefepime...\n",
      "Training w/o SMOTE...\n",
      "Fold 1/5...\n",
      "28/28 [==============================] - 0s 2ms/step\n",
      "AUC=0.585236579126562, ACC=0.929384965831435, f1=0.27906976744186046\n",
      "Fold 2/5...\n",
      "28/28 [==============================] - 0s 3ms/step\n",
      "AUC=0.6206928321356182, ACC=0.9315849486887116, f1=0.36170212765957455\n",
      "Fold 3/5...\n",
      "28/28 [==============================] - 0s 2ms/step\n",
      "AUC=0.620075548185001, ACC=0.9304446978335233, f1=0.3578947368421053\n",
      "Fold 4/5...\n",
      "28/28 [==============================] - 0s 2ms/step\n",
      "AUC=0.7027823843744241, ACC=0.9441277080957811, f1=0.5333333333333332\n",
      "Fold 5/5...\n",
      "28/28 [==============================] - 0s 2ms/step\n",
      "AUC=0.6891468583010871, ACC=0.9315849486887116, f1=0.4736842105263158\n",
      "Training w/ SMOTE...\n",
      "Fold 1/5...\n",
      "28/28 [==============================] - 0s 2ms/step\n",
      "AUC=0.7708283490071223, ACC=0.9054669703872438, f1=0.49696969696969695\n",
      "Fold 2/5...\n",
      "28/28 [==============================] - 0s 2ms/step\n",
      "AUC=0.7299336650082919, ACC=0.855188141391106, f1=0.38048780487804873\n",
      "Fold 3/5...\n",
      "28/28 [==============================] - 0s 2ms/step\n",
      "AUC=0.7513727658006265, ACC=0.9327251995438997, f1=0.549618320610687\n",
      "Fold 4/5...\n",
      "28/28 [==============================] - 0s 3ms/step\n",
      "AUC=0.808319513543394, ACC=0.8608893956670467, f1=0.4504504504504504\n",
      "Fold 5/5...\n",
      "28/28 [==============================] - 0s 3ms/step\n",
      "AUC=0.7689331122166944, ACC=0.9019384264538198, f1=0.4880952380952381\n",
      "Loading Piperacillin-Tazobactam...\n",
      "Training w/o SMOTE...\n",
      "Fold 1/5...\n"
     ]
    }
   ],
   "source": [
    "ecoli_trainer = Trainer(\n",
    "    pathogen='Escherichia coli',\n",
    "    n_splits=5,\n",
    "    sites=sites,\n",
    "    years=years,\n",
    ")\n",
    "\n",
    "ecoli_drugs = [\n",
    "    'Ceftriaxone',\n",
    "    'Ciprofloxacin',\n",
    "    'Cefepime',\n",
    "    'Piperacillin-Tazobactam',\n",
    "    'Tobramycin',\n",
    "]\n",
    "\n",
    "for drug in ecoli_drugs:\n",
    "    ecoli_trainer.fit(\n",
    "        drug=drug,\n",
    "        model=build_cnn_1d,\n",
    "        # params for `model.fit()`\n",
    "        epochs=100,\n",
    "        validation_split=0.2,\n",
    "        verbose=0,\n",
    "        callbacks=cnn_callbacks,\n",
    "    )\n",
    "\n",
    "# collect results\n",
    "ecoli_results = ecoli_trainer.collect_results()\n",
    "ecoli_results.save_to('./results/1d_cnn/ecoli')"
   ],
   "metadata": {
    "collapsed": false,
    "pycharm": {
     "name": "#%%\n",
     "is_executing": true
    }
   }
  },
  {
   "cell_type": "markdown",
   "source": [
    "### Bar Graph (E. Coli)"
   ],
   "metadata": {
    "collapsed": false,
    "pycharm": {
     "name": "#%% md\n"
    }
   }
  },
  {
   "cell_type": "code",
   "execution_count": null,
   "outputs": [],
   "source": [
    "ecoli_results.bar_plot(\n",
    "    title='Metrics Scores of 1D-CNN for E. Coli',\n",
    "    save_as='./results/1d_cnn/ecoli/bar.png',\n",
    "    nrows=2,\n",
    "    ncols=3,\n",
    "    sharey=True,\n",
    "    figsize=(20, 12),\n",
    "    y_lim=(0, 1),\n",
    ")"
   ],
   "metadata": {
    "collapsed": false,
    "pycharm": {
     "name": "#%%\n",
     "is_executing": true
    }
   }
  },
  {
   "cell_type": "markdown",
   "source": [
    "### Box Graph (E. Coli)"
   ],
   "metadata": {
    "collapsed": false,
    "pycharm": {
     "name": "#%% md\n"
    }
   }
  },
  {
   "cell_type": "code",
   "execution_count": null,
   "outputs": [],
   "source": [
    "ecoli_results.box_plot(\n",
    "    save_as='./results/1d_cnn/ecoli/box.png',\n",
    "    # format subtitles (`{}` will be replaced with metrics' name)\n",
    "    subtitle_template='5-Fold {} Scores of 1D-CNN for E. Coli',\n",
    "    # plot AUROC only\n",
    "    metrics=['AUROC'],\n",
    "    # set view limits for y-axis\n",
    "    y_lim=(0.4, 1.0),\n",
    "    figsize=(10, 6),\n",
    ")"
   ],
   "metadata": {
    "collapsed": false,
    "pycharm": {
     "name": "#%%\n",
     "is_executing": true
    }
   }
  },
  {
   "cell_type": "markdown",
   "source": [
    "## K. pneumoniae"
   ],
   "metadata": {
    "collapsed": false,
    "pycharm": {
     "name": "#%% md\n"
    }
   }
  },
  {
   "cell_type": "code",
   "source": [
    "kpn_trainer = Trainer(\n",
    "    pathogen='Klebsiella pneumoniae',\n",
    "    n_splits=5,\n",
    "    sites=sites,\n",
    "    years=years,\n",
    ")\n",
    "\n",
    "kpn_drugs = [\n",
    "    'Ciprofloxacin',\n",
    "    'Ceftriaxone',\n",
    "    'Cefepime',\n",
    "    'Meropenem',\n",
    "    'Tobramycin',\n",
    "]\n",
    "\n",
    "for drug in kpn_drugs:\n",
    "    kpn_trainer.fit(\n",
    "        drug=drug,\n",
    "        model=build_cnn_1d,\n",
    "        # params for `model.fit()`\n",
    "        epochs=100,\n",
    "        validation_split=0.2,\n",
    "        verbose=0,\n",
    "        callbacks=cnn_callbacks,\n",
    "    )\n",
    "\n",
    "# collect results\n",
    "kpn_results = kpn_trainer.collect_results()\n",
    "kpn_results.save_to('./results/1d_cnn/kpn')"
   ],
   "metadata": {
    "collapsed": false,
    "pycharm": {
     "name": "#%%\n",
     "is_executing": true
    }
   },
   "execution_count": null,
   "outputs": []
  },
  {
   "cell_type": "markdown",
   "source": [
    "### Bar Graph (K. pneumoniae)"
   ],
   "metadata": {
    "collapsed": false,
    "pycharm": {
     "name": "#%% md\n"
    }
   }
  },
  {
   "cell_type": "code",
   "execution_count": null,
   "outputs": [],
   "source": [
    "kpn_results.bar_plot(\n",
    "    title='Metrics Scores of 1D-CNN for K. pneumoniae',\n",
    "    save_as='./results/1d_cnn/kpn/bar.png',\n",
    "    nrows=2,\n",
    "    ncols=3,\n",
    "    sharey=True,\n",
    "    figsize=(20, 12),\n",
    "    y_lim=(0, 1),\n",
    ")"
   ],
   "metadata": {
    "collapsed": false,
    "pycharm": {
     "name": "#%%\n",
     "is_executing": true
    }
   }
  },
  {
   "cell_type": "markdown",
   "source": [
    "### Box Graph (K. pneumoniae)"
   ],
   "metadata": {
    "collapsed": false,
    "pycharm": {
     "name": "#%% md\n"
    }
   }
  },
  {
   "cell_type": "code",
   "execution_count": null,
   "outputs": [],
   "source": [
    "kpn_results.box_plot(\n",
    "    save_as='./results/1d_cnn/kpn/box.png',\n",
    "    # format subtitles (`{}` will be replaced with metrics' name)\n",
    "    subtitle_template='5-Fold {} Scores of 1D-CNN for K. pneumoniae',\n",
    "    # plot AUROC only\n",
    "    metrics=['AUROC'],\n",
    "    # set view limits for y-axis\n",
    "    y_lim=(0.4, 1.0),\n",
    "    figsize=(10, 6),\n",
    ")"
   ],
   "metadata": {
    "collapsed": false,
    "pycharm": {
     "name": "#%%\n",
     "is_executing": true
    }
   }
  },
  {
   "cell_type": "markdown",
   "source": [
    "## S. aureus"
   ],
   "metadata": {
    "collapsed": false,
    "pycharm": {
     "name": "#%% md\n"
    }
   }
  },
  {
   "cell_type": "code",
   "source": [
    "aureus_trainer = Trainer(\n",
    "    pathogen='Staphylococcus aureus',\n",
    "    n_splits=5,\n",
    "    sites=sites,\n",
    "    years=years,\n",
    ")\n",
    "\n",
    "aureus_drugs = [\n",
    "    'Ciprofloxacin',\n",
    "    'Fusidic acid',\n",
    "    'Oxacillin',\n",
    "]\n",
    "\n",
    "for drug in aureus_drugs:\n",
    "    aureus_trainer.fit(\n",
    "        drug=drug,\n",
    "        model=build_cnn_1d,\n",
    "        # params for `model.fit()`\n",
    "        epochs=100,\n",
    "        validation_split=0.2,\n",
    "        verbose=0,\n",
    "        callbacks=cnn_callbacks,\n",
    "    )\n",
    "\n",
    "# collect results\n",
    "aureus_results = aureus_trainer.collect_results()\n",
    "aureus_results.save_to('./results/1d_cnn/aureus')"
   ],
   "metadata": {
    "collapsed": false,
    "pycharm": {
     "name": "#%%\n",
     "is_executing": true
    }
   },
   "execution_count": null,
   "outputs": []
  },
  {
   "cell_type": "markdown",
   "source": [
    "### Bar Graph (S. aureus)"
   ],
   "metadata": {
    "collapsed": false,
    "pycharm": {
     "name": "#%% md\n"
    }
   }
  },
  {
   "cell_type": "code",
   "execution_count": null,
   "outputs": [],
   "source": [
    "aureus_results.bar_plot(\n",
    "    title='Metrics Scores of 1D-CNN for S. aureus',\n",
    "    save_as='./results/1d_cnn/aureus/bar.png',\n",
    "    nrows=2,\n",
    "    ncols=3,\n",
    "    sharey=True,\n",
    "    figsize=(20, 12),\n",
    "    y_lim=(0, 1),\n",
    ")"
   ],
   "metadata": {
    "collapsed": false,
    "pycharm": {
     "name": "#%%\n",
     "is_executing": true
    }
   }
  },
  {
   "cell_type": "markdown",
   "source": [
    "### Box Graph (S. aureus)"
   ],
   "metadata": {
    "collapsed": false,
    "pycharm": {
     "name": "#%% md\n"
    }
   }
  },
  {
   "cell_type": "code",
   "execution_count": null,
   "outputs": [],
   "source": [
    "aureus_results.box_plot(\n",
    "    save_as='./results/1d_cnn/aureus/box.png',\n",
    "    # format subtitles (`{}` will be replaced with metrics' name)\n",
    "    subtitle_template='5-Fold {} Scores of 1D-CNN for S. aureus',\n",
    "    # plot AUROC only\n",
    "    metrics=['AUROC'],\n",
    "    # set view limits for y-axis\n",
    "    y_lim=(0.4, 1.0),\n",
    "    figsize=(10, 6),\n",
    ")\n"
   ],
   "metadata": {
    "collapsed": false,
    "pycharm": {
     "name": "#%%\n",
     "is_executing": true
    }
   }
  }
 ],
 "metadata": {
  "kernelspec": {
   "display_name": "Python 3",
   "language": "python",
   "name": "python3"
  },
  "language_info": {
   "codemirror_mode": {
    "name": "ipython",
    "version": 2
   },
   "file_extension": ".py",
   "mimetype": "text/x-python",
   "name": "python",
   "nbconvert_exporter": "python",
   "pygments_lexer": "ipython2",
   "version": "2.7.6"
  }
 },
 "nbformat": 4,
 "nbformat_minor": 0
}