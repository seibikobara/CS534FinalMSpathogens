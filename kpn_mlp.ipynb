{
 "cells": [
  {
   "cell_type": "markdown",
   "source": [
    "# K. pneumoniae with MLP"
   ],
   "metadata": {
    "collapsed": false,
    "pycharm": {
     "name": "#%% md\n"
    }
   }
  },
  {
   "cell_type": "code",
   "execution_count": 1,
   "metadata": {
    "collapsed": true,
    "pycharm": {
     "name": "#%%\n"
    }
   },
   "outputs": [],
   "source": [
    "# enable auto-reloading submodules\n",
    "%reload_ext autoreload\n",
    "%autoreload 2\n",
    "\n",
    "# hidpi plots for retina displays\n",
    "%config InlineBackend.figure_format = 'retina'\n",
    "\n",
    "from sklearn.neural_network import MLPClassifier\n",
    "from trainer import Trainer"
   ]
  },
  {
   "cell_type": "markdown",
   "source": [
    "## Training"
   ],
   "metadata": {
    "collapsed": false,
    "pycharm": {
     "name": "#%% md\n"
    }
   }
  },
  {
   "cell_type": "code",
   "execution_count": 2,
   "outputs": [
    {
     "name": "stdout",
     "output_type": "stream",
     "text": [
      "Loading Ciprofloxacin...\n",
      "Training w/o SMOTE...\n",
      "Fold 1/5...\n",
      "AUC=0.7367427222659323, ACC=0.8939670932358318, f1=0.5915492957746479\n",
      "Fold 2/5...\n",
      "AUC=0.704104379753475, ACC=0.8811700182815356, f1=0.5323741007194245\n",
      "Fold 3/5...\n",
      "AUC=0.6883293994230264, ACC=0.8628884826325411, f1=0.489795918367347\n",
      "Fold 4/5...\n",
      "AUC=0.7159454497770784, ACC=0.8756855575868373, f1=0.5405405405405406\n",
      "Fold 5/5...\n",
      "AUC=0.783910792512943, ACC=0.9010989010989011, f1=0.6493506493506493\n",
      "Training w/ SMOTE...\n",
      "Fold 1/5...\n",
      "AUC=0.6987280356674535, ACC=0.8720292504570384, f1=0.5138888888888888\n",
      "Fold 2/5...\n"
     ]
    },
    {
     "name": "stderr",
     "output_type": "stream",
     "text": [
      "/opt/miniconda3/envs/cs534/lib/python3.8/site-packages/sklearn/neural_network/_multilayer_perceptron.py:709: UserWarning: Training interrupted by user.\n",
      "  warnings.warn(\"Training interrupted by user.\")\n"
     ]
    },
    {
     "name": "stdout",
     "output_type": "stream",
     "text": [
      "AUC=0.775872016784684, ACC=0.8409506398537477, f1=0.5628140703517588\n",
      "Fold 3/5...\n"
     ]
    },
    {
     "name": "stderr",
     "output_type": "stream",
     "text": [
      "\n",
      "KeyboardInterrupt\n",
      "\n"
     ]
    }
   ],
   "source": [
    "drugs = [\n",
    "    'Ciprofloxacin',\n",
    "    'Ceftriaxone',\n",
    "    'Cefepime',\n",
    "    'Meropenem',\n",
    "    'Tobramycin',\n",
    "]\n",
    "\n",
    "trainer = Trainer(\n",
    "    pathogen='Klebsiella pneumoniae',\n",
    "    # NOTE: there will be no true label in test data if you use too many folds\n",
    "    n_splits=5,\n",
    "    sites=['A'],\n",
    "    years=[2015, 2016, 2017, 2018],\n",
    ")\n",
    "\n",
    "for d in drugs:\n",
    "    trainer.fit(\n",
    "        drug=d,\n",
    "        model=MLPClassifier(\n",
    "            alpha=0.0001,\n",
    "            activation='relu',\n",
    "            random_state=164,\n",
    "            hidden_layer_sizes=[512, 256, 128],\n",
    "            max_iter=200,\n",
    "            # verbose=1,\n",
    "            # early_stopping=True,\n",
    "            # n_iter_no_change=20,\n",
    "            # validation_fraction=0.1,\n",
    "        )\n",
    "    )"
   ],
   "metadata": {
    "collapsed": false,
    "pycharm": {
     "name": "#%%\n"
    }
   }
  },
  {
   "cell_type": "markdown",
   "source": [
    "## Results Collection and Visualization"
   ],
   "metadata": {
    "collapsed": false,
    "pycharm": {
     "name": "#%% md\n"
    }
   }
  },
  {
   "cell_type": "code",
   "execution_count": null,
   "outputs": [],
   "source": [
    "results = trainer.collect_results()\n",
    "# export results to csv files\n",
    "results.save_to('./results/kpn_mlp/')"
   ],
   "metadata": {
    "collapsed": false,
    "pycharm": {
     "name": "#%%\n"
    }
   }
  },
  {
   "cell_type": "markdown",
   "source": [
    "### Bar Graph"
   ],
   "metadata": {
    "collapsed": false,
    "pycharm": {
     "name": "#%% md\n"
    }
   }
  },
  {
   "cell_type": "code",
   "execution_count": null,
   "outputs": [],
   "source": [
    "results.bar_plot(\n",
    "    title='Metric Scores for K. pneumoniae (Bar Graph)',\n",
    "    save_as='./results/kpn_mlp/bar.png',\n",
    "    nrows=2,\n",
    "    ncols=3,\n",
    "    sharey=True,\n",
    "    figsize=(22, 15),\n",
    ")"
   ],
   "metadata": {
    "collapsed": false,
    "pycharm": {
     "name": "#%%\n"
    }
   }
  },
  {
   "cell_type": "markdown",
   "source": [
    "### Box Graph"
   ],
   "metadata": {
    "collapsed": false,
    "pycharm": {
     "name": "#%% md\n"
    }
   }
  },
  {
   "cell_type": "code",
   "execution_count": null,
   "outputs": [],
   "source": [
    "results.box_plot(\n",
    "    title='Metric Scores for K. pneumoniae (Box Graph)',\n",
    "    save_as='./results/kpn_mlp/box.png',\n",
    "    nrows=1,\n",
    "    ncols=3,\n",
    "    # sharey=True,\n",
    "    figsize=(22, 6),\n",
    ")\n"
   ],
   "metadata": {
    "collapsed": false,
    "pycharm": {
     "name": "#%%\n"
    }
   }
  }
 ],
 "metadata": {
  "kernelspec": {
   "display_name": "Python 3",
   "language": "python",
   "name": "python3"
  },
  "language_info": {
   "codemirror_mode": {
    "name": "ipython",
    "version": 2
   },
   "file_extension": ".py",
   "mimetype": "text/x-python",
   "name": "python",
   "nbconvert_exporter": "python",
   "pygments_lexer": "ipython2",
   "version": "2.7.6"
  }
 },
 "nbformat": 4,
 "nbformat_minor": 0
}